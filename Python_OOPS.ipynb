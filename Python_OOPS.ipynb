{
 "cells": [
  {
   "cell_type": "markdown",
   "id": "14f578e4-d7a0-4df3-a750-b4e3fe5064e2",
   "metadata": {},
   "source": [
    "***\n",
    "<h2 style=\"text-align:center\"> Python OOPS Assignment</h2>\n",
    "\n",
    "***"
   ]
  },
  {
   "cell_type": "markdown",
   "id": "b7f75201-01d5-4840-9b18-05a3a7238db5",
   "metadata": {},
   "source": [
    "1. What is the purpose of Python's OOP?"
   ]
  },
  {
   "cell_type": "markdown",
   "id": "22c88f67-6e16-44eb-85e4-44ce126daf6a",
   "metadata": {},
   "source": [
    "<i>\n",
    "  <li> The purpose of Python's object-oriented programming (OOP) features is to provide a way to organize and structure code in a way that is efficient and easy to understand and maintain. </li>\n",
    "\n",
    "<li> OOP allows for the creation of reusable code, encapsulation of data, and the ability to model real-world objects and their interactions within a program.\n",
    "    \n",
    "<li> This can make it easier to design, debug, and modify a program as it grows in complexity."
   ]
  },
  {
   "cell_type": "markdown",
   "id": "9d3e93a2-e472-419b-a00f-c47ed3c47811",
   "metadata": {},
   "source": [
    "2. Where does an inheritance search look for an attribute?"
   ]
  },
  {
   "cell_type": "markdown",
   "id": "882ebfa7-5cf7-422c-8215-4c84f0d0b7b3",
   "metadata": {},
   "source": [
    "<i>An inheritance search looks for an attribute first in the instance object, then in the class the instance was created from, then in all higher superclasses, progressing from left to right (by default). The search stops at the first place the attribute is found."
   ]
  },
  {
   "cell_type": "markdown",
   "id": "748c4aed-2594-4606-b276-10d1af6aece7",
   "metadata": {},
   "source": [
    "3. How do you distinguish between a class object and an instance object?"
   ]
  },
  {
   "cell_type": "markdown",
   "id": "28947d46-fe53-4713-a378-6d16384c91ca",
   "metadata": {},
   "source": [
    "<i>Class objects provide default behavior and serve as factories for instance objects.class object is like a blueprint for intance object but instance object is a concrete item in out code.<br>\n",
    "class MyClass:<br>\n",
    " &nbsp;  &nbsp;  &nbsp;  &nbsp;  pass<br>\n",
    "above code will generate a class object and name it ‘MyClass’.<br>\n",
    "Obj1=MyClass()<br>\n",
    "the above statement creates an object and names it to Obj1 which is an instance of MyClass."
   ]
  },
  {
   "cell_type": "markdown",
   "id": "f1c2bbfc-fa28-4a5f-af73-ed31bb448b83",
   "metadata": {},
   "source": [
    "4.  What makes the first argument in a class’s method function special?"
   ]
  },
  {
   "cell_type": "markdown",
   "id": "70e0f8aa-f169-4a8a-9475-aee8324eebf5",
   "metadata": {},
   "source": [
    "<i>The first argument in class's method function, often called \"self\", is special because it allows the method to access and modify the properties and state of the instance and also to call other methods on the same instance. Using \"self\" makes it clear that the method is being called on an instance of the class, and it helps to distinguish it from other variables or arguments that may be used in the method<br>\n",
    "So self is really just a variable that points to the instance of our class that we're currently working with.\n"
   ]
  },
  {
   "cell_type": "markdown",
   "id": "d3295452-cb6a-47ff-beb4-b1f8a347cdd4",
   "metadata": {},
   "source": [
    "5. What is the purpose of the init method?"
   ]
  },
  {
   "cell_type": "markdown",
   "id": "94ea933d-1bac-4033-85f9-fe192861e081",
   "metadata": {},
   "source": [
    "<i> All classes have a function called __init__(), which is always executed when the class is being initiated.\n",
    "Use the __init__() function to assign values to object properties, or other operations that are necessary to do when the object is being created. The __init__() function is called automatically every time the class is being used to create a new object."
   ]
  },
  {
   "cell_type": "markdown",
   "id": "f5aafb5f-dff8-4f25-baf2-bc4459a9f99a",
   "metadata": {},
   "source": [
    "6. What is the process for creating a class instance?|"
   ]
  },
  {
   "cell_type": "code",
   "execution_count": 2,
   "id": "0347642e-8850-4e39-9d29-8252e7abcb86",
   "metadata": {},
   "outputs": [
    {
     "name": "stdout",
     "output_type": "stream",
     "text": [
      "John\n",
      "36\n"
     ]
    }
   ],
   "source": [
    "#To create instances of a class, you call the class using class name and pass in whatever \n",
    "#arguments its __init__ method accepts.\n",
    "\n",
    "class Person:\n",
    "  def __init__(self, name, age):\n",
    "    self.name = name\n",
    "    self.age = age\n",
    "\n",
    "p1 = Person(\"John\", 36)\n",
    "\n",
    "print(p1.name)\n",
    "print(p1.age)"
   ]
  },
  {
   "cell_type": "markdown",
   "id": "55d3a522-ff7a-46d8-a459-0c44c561fe1c",
   "metadata": {},
   "source": [
    "7. What is the process for creating a class?"
   ]
  },
  {
   "cell_type": "markdown",
   "id": "513d651a-777d-4cc5-8e6e-924e8fb4c1de",
   "metadata": {},
   "source": [
    "<i>In python we can create class using 'class' keyword along with the class name\n",
    "<br> eg. class My_Class:"
   ]
  },
  {
   "cell_type": "markdown",
   "id": "6c678e03-4a6f-438b-a3f7-b9ce5e5e04cf",
   "metadata": {},
   "source": [
    "8. How would you define the superclasses of a class?"
   ]
  },
  {
   "cell_type": "markdown",
   "id": "36580e2d-26bc-4c49-a64f-6ece85fc15f1",
   "metadata": {},
   "source": [
    "<i> The class from which a class inherits is called the parent or superclass. A class which inherits from a superclass is called a subclass, also called heir class or child class. Superclasses are sometimes called ancestors as wel<br>\n",
    "class ABC: #superclass<br>\n",
    "&nbsp;  &nbsp;&nbsp;   pass <br><br>\n",
    "class XYZ(ABC): #subclass<br>\n",
    "&nbsp;  &nbsp;&nbsp;   pass    \n",
    "    "
   ]
  },
  {
   "cell_type": "markdown",
   "id": "f30f5887-0b22-4bce-9e21-fe40845d0fcf",
   "metadata": {},
   "source": [
    "9. What is the relationship between classes and modules?"
   ]
  },
  {
   "cell_type": "markdown",
   "id": "f563d3d3-4dc8-4856-b027-16d54f576a5b",
   "metadata": {},
   "source": [
    "<i> A class can have its own instance, but a module cannot be instantiated. We use the ‘class’ keyword to define a class, whereas to use modules, we use the ‘import’ keyword. We can inherit a particular class and modify it using inheritance. But while using modules, it is simply a code containing variables, functions, and classes."
   ]
  },
  {
   "cell_type": "markdown",
   "id": "3dd519fb-7223-4a96-b028-0838b77e9676",
   "metadata": {},
   "source": [
    "10. How do you make instances and classes?"
   ]
  },
  {
   "cell_type": "code",
   "execution_count": 7,
   "id": "e2d6324a-f4f1-4e87-b1b4-140d15a60cb6",
   "metadata": {},
   "outputs": [
    {
     "name": "stdout",
     "output_type": "stream",
     "text": [
      "Employee name is Varun and salary is 25000\n"
     ]
    }
   ],
   "source": [
    "class Employee:  #class\n",
    "    def __init__(self, name, salary):\n",
    "        self.name = name \n",
    "        self.salary = salary\n",
    "\n",
    "    def displayInfo(self):\n",
    "        print(f'Employee name is {self.name} and salary is {self.salary}')  \n",
    "        \n",
    "emp1 = Employee('Varun', 25000) #instance\n",
    "emp1.displayInfo()"
   ]
  },
  {
   "cell_type": "markdown",
   "id": "57ce1a57-3fa7-454e-ab86-98419e1673fa",
   "metadata": {},
   "source": [
    "11. Where and how should be class attributes created?"
   ]
  },
  {
   "cell_type": "markdown",
   "id": "a897ea62-8564-4e01-aaec-e41742cfedbf",
   "metadata": {},
   "source": [
    "<i>Class attributes belong to the class itself they will be shared by all the instances. Such attributes are defined in the class body parts usually at the top, for legibility.<br>\n",
    "class Myclass:<br>\n",
    "&nbsp; &nbsp; a=100 #class attribute\n",
    "    "
   ]
  },
  {
   "cell_type": "markdown",
   "id": "e80fbc51-13c1-4c5b-a29c-d96e4ea8c079",
   "metadata": {},
   "source": [
    "12. Where and how are instance attributes created?"
   ]
  },
  {
   "cell_type": "markdown",
   "id": "3fbd05e3-844a-4b36-9b09-891910a0f09b",
   "metadata": {},
   "source": [
    "<i>Instance attributes in Python are created within the init method of a class. \n",
    "The init method is a special method that is automatically called when a new instance of a class is created.\n",
    "    \n",
    "class MyClass: <br>\n",
    "&nbsp;&nbsp;&nbsp; def init(self): <br>\n",
    "&nbsp;&nbsp;&nbsp;&nbsp;&nbsp;&nbsp;&nbsp; self.instance_attribute = 42 #instance attribute"
   ]
  },
  {
   "cell_type": "markdown",
   "id": "6802f021-9f31-4162-bd70-39afa5cfe374",
   "metadata": {},
   "source": [
    "13. What does the term \"self\" in a Python class mean?"
   ]
  },
  {
   "cell_type": "markdown",
   "id": "5841a780-3fde-4ba1-a830-2a9fe1aa60be",
   "metadata": {},
   "source": [
    "<i>\n",
    "<li> The term self in a Python class refers to the instance of the class. \n",
    "<li> It is a convention to use self as the first parameter of each method in a class. \n",
    "<li> When you call a method on an instance of a class, the instance is automatically passed as the first argument to the method, and this argument is stored in self.\n",
    "\n",
    "class MyClass: <br>\n",
    "&nbsp;&nbsp;&nbsp;  def init(self, attribute_value): <br>\n",
    "&nbsp;&nbsp;&nbsp;&nbsp;&nbsp;&nbsp; &nbsp;      self.attribute = attribute_value"
   ]
  },
  {
   "cell_type": "markdown",
   "id": "4b234ee2-665e-4c28-a944-77142c34cf99",
   "metadata": {},
   "source": [
    "14. How does a Python class handle operator overloading?"
   ]
  },
  {
   "cell_type": "markdown",
   "id": "8764faab-b89b-43b8-9752-cac2ddc84e76",
   "metadata": {},
   "source": [
    "<i> The operator overloading in Python means provide extended meaning beyond their predefined operational meaning. Such as, we use the \"+\" operator for adding two integers as well as joining two strings or merging two lists"
   ]
  },
  {
   "cell_type": "code",
   "execution_count": 31,
   "id": "dbdfbd9d-2694-4987-96b5-867fb85ffcab",
   "metadata": {},
   "outputs": [
    {
     "name": "stdout",
     "output_type": "stream",
     "text": [
      "15\n",
      "HiHello\n"
     ]
    }
   ],
   "source": [
    "class A:\n",
    "    def __init__(self, a):\n",
    "        self.a = a\n",
    "        #self.b = b\n",
    "    def __add__(self, a):\n",
    "        return self.a + a.a\n",
    "\n",
    "obj1 = A(5)\n",
    "obj2 = A(10)\n",
    "obj3 = A('Hi')\n",
    "obj4 = A('Hello')\n",
    "print(obj1 + obj2)\n",
    "print(obj3 + obj4)"
   ]
  },
  {
   "cell_type": "markdown",
   "id": "df9faecf-9a9f-4b92-b53c-d394f1a06cdc",
   "metadata": {},
   "source": [
    "15. When do you consider allowing operator overloading of your classes?"
   ]
  },
  {
   "cell_type": "markdown",
   "id": "9a004be1-2a34-49e9-8139-d6165b4416af",
   "metadata": {},
   "source": [
    "<i>  we have two objects which are a physical representation of a class (user-defined data type) and we have to add two objects with binary '+' operator it throws an error, because compiler don't know how to add two objects."
   ]
  },
  {
   "cell_type": "code",
   "execution_count": 34,
   "id": "ff37160d-5061-4cd7-bc71-1f3f3d6e2f07",
   "metadata": {},
   "outputs": [
    {
     "name": "stdout",
     "output_type": "stream",
     "text": [
      "15\n",
      "operatorOverloading\n"
     ]
    }
   ],
   "source": [
    "class A:\n",
    "    def __init__(self, a):\n",
    "        self.a = a\n",
    "        #self.b = b\n",
    "    def __add__(self, a):\n",
    "        return self.a + a.a\n",
    "\n",
    "obj1 = A(5)\n",
    "obj2 = A(10)\n",
    "obj3 = A('operator')\n",
    "obj4 = A('Overloading')\n",
    "print(obj1 + obj2)\n",
    "print(obj3 + obj4)"
   ]
  },
  {
   "cell_type": "markdown",
   "id": "bfc78094-a6db-421f-8d65-12fc60777814",
   "metadata": {},
   "source": [
    "16. What is the most popular form of operator overloading?"
   ]
  },
  {
   "cell_type": "markdown",
   "id": "73ac9b9d-00f0-4ce5-bec4-c5ca5674467c",
   "metadata": {},
   "source": [
    "<i> The most popular form is the adding up operator '+', where it can be used for the usual addition and also for combining two different strings."
   ]
  },
  {
   "cell_type": "markdown",
   "id": "afb92dec-7f16-4520-989e-eeee524d9e05",
   "metadata": {},
   "source": [
    "17. What are the two most important concepts to grasp in order to comprehend Python OOP code?"
   ]
  },
  {
   "cell_type": "markdown",
   "id": "6ddd41ff-bc5c-456b-9df5-64b8f16db823",
   "metadata": {},
   "source": [
    "<i> The two most important concepts to grasp in oder to comprehend python OOP code are <font color='red'>Inheritance and Polymorphism"
   ]
  },
  {
   "cell_type": "markdown",
   "id": "3b9e7882-3121-4d3e-ba05-b3467aad604c",
   "metadata": {},
   "source": [
    "18. Describe three applications for exception processing."
   ]
  },
  {
   "cell_type": "markdown",
   "id": "69ed3416-3047-4a9d-86bb-4fd7948e7d23",
   "metadata": {},
   "source": [
    "<i>\n",
    "<li>Input validation: Exception handling can be used to validate user input and ensure that it meets certain conditions before being processed. For example, you might use exception handling to check that a user has entered a valid integer value before converting it to an int.\n",
    "<li>Resource management: Exception handling can be used to manage resources, such as files or network connections, that need to be opened and closed properly. For example, you might use exception handling to ensure that a fil\n",
    "<li>Error reporting: Exception handling can be used to provide meaningful error messages to the user when something goes wrong in your code. For example, you might use exception handling to catch a specific error and provide a user-friendly error message, rather than a stack trace."
   ]
  },
  {
   "cell_type": "markdown",
   "id": "19130968-fb14-4c6a-99ed-74f5ce7a6926",
   "metadata": {},
   "source": [
    "19. What happens if you don't do something extra to treat an exception?"
   ]
  },
  {
   "cell_type": "markdown",
   "id": "6d93f338-d8af-460c-9d78-2bdd2eaff414",
   "metadata": {},
   "source": [
    "<i>\n",
    "<li>If you don't do anything to treat an exception in your code, it will propagate up the call stack until it is caught by the Python interpreter or reaches the top-level code. When this happens, the interpreter will terminate your program and display an error message, also known as a traceback.\n",
    "<li>The traceback will contain information about the exception that was raised, including the type of the exception, the location in your code where it was raised, and a description of the error. \n"
   ]
  },
  {
   "cell_type": "markdown",
   "id": "6c6a7cc7-a99c-4129-8e18-0226b447a2cc",
   "metadata": {},
   "source": [
    "20.  What are your options for recovering from an exception in your script?"
   ]
  },
  {
   "cell_type": "markdown",
   "id": "7f15ead1-b847-467a-8998-f4194f1c0fcc",
   "metadata": {},
   "source": [
    "<i>\n",
    "<li>Logging the exception: You can choose to log the exception, along with any relevant information, such as the location in your code where it was raised and the type of the exception. Logging the exception can be useful for debugging your code and tracking down the root cause of the problem.\n",
    "<li>Displaying an error message: You can choose to display an error message to the user, indicating that an exception has occurred and providing any relevant information, such as what the user can do to reso"
   ]
  },
  {
   "cell_type": "markdown",
   "id": "6448d42c-21a6-4c43-9fcf-d3956d09a2d7",
   "metadata": {},
   "source": [
    "21. Describe two methods for triggering exceptions in your script."
   ]
  },
  {
   "cell_type": "markdown",
   "id": "7afff36f-6311-4eba-9687-6684868c3ec2",
   "metadata": {},
   "source": [
    "<i>\n",
    "<li>Raising exceptions explicitly: You can raise exceptions explicitly by using the raise statement. The raise statement allows you to throw an exception of any type, including built-in exception types or custom exception types that you have defined. You can provide a message or additional information to the exception, which can be used to provide more context to the error.\n",
    "\n",
    "<li>Triggering exceptions implicitly: Certain operations in Python can trigger exceptions implicitly, without the need for an"
   ]
  },
  {
   "cell_type": "markdown",
   "id": "00543acf-c7d0-4558-a182-fb40dec3cd1a",
   "metadata": {},
   "source": [
    "22. Identify two methods for specifying actions to be executed at termination time, regardless of\n",
    "whether or not an exception exists."
   ]
  },
  {
   "cell_type": "markdown",
   "id": "3df3431a-6033-499b-b545-64aa692deefb",
   "metadata": {},
   "source": [
    "<i>There are two methods for specifying actions to be executed at termination time in Python:\n",
    "Using the \"finally\" clause in a try-except block: The \"finally\" clause is used to specify actions that will always be executed, regardless of whether an exception occurs or not. "
   ]
  },
  {
   "cell_type": "markdown",
   "id": "ee6c8cce-281f-42a2-b285-af897670f106",
   "metadata": {},
   "source": [
    "23. What is the purpose of the try statement?"
   ]
  },
  {
   "cell_type": "markdown",
   "id": "4f7be201-8335-435b-9b93-4cf00c1571e4",
   "metadata": {},
   "source": [
    "<i>The try block is used to check some code for errors i.e the code inside the try block will execute when there is no error in the program."
   ]
  },
  {
   "cell_type": "markdown",
   "id": "3632d0a4-e9a8-460e-8929-f6136a769482",
   "metadata": {},
   "source": [
    "24. What are the two most popular try statement variations?"
   ]
  },
  {
   "cell_type": "markdown",
   "id": "044909d2-0be8-45dc-b1ff-49d9f8af21c0",
   "metadata": {},
   "source": [
    "<i>\n",
    "<li>Try-Except: The try-except statement is used to handle exceptions that occur during the execution of a program.\n",
    "    If an exception occurs in the try block, the corresponding except block is executed to handle the exception. If no exception occurs, the except block is skipped.\n",
    "\n",
    "<li>Try-Finally: The try-finally statement is used to specify actions that will always be executed, regardless of whether an exceptio"
   ]
  },
  {
   "cell_type": "markdown",
   "id": "27f908a9-06ac-463f-8612-3446a492dc5a",
   "metadata": {},
   "source": [
    "25. What is the purpose of the raise statement?"
   ]
  },
  {
   "cell_type": "markdown",
   "id": "26028aa2-4545-43d9-ac5c-0bd99a19844c",
   "metadata": {},
   "source": [
    "<i> \n",
    "<li>The raise statement in Python is used to raise an exception. It can be used to raise a specific exception or to re-raise the current exception. raise ExceptionType(\"error message\") The purpose of the raise statement is to force the program to raise an exception, either to signal an error condition or to indicate that some specific action has failed. \n",
    "<li>This allows you to create custom exception types and to propagate exceptions up the call stack, making it easier to handle and diagnose error"
   ]
  },
  {
   "cell_type": "markdown",
   "id": "b1296290-2b3b-4c00-9e20-af0ba53ce6bb",
   "metadata": {},
   "source": [
    "26. What does the assert statement do, and what other statement is it like?"
   ]
  },
  {
   "cell_type": "markdown",
   "id": "51c36891-939d-44f7-942a-0799c0ebdf8e",
   "metadata": {},
   "source": [
    "<i>\n",
    "In Python we can use assert statement in two ways as mentioned above.<br>\n",
    "\n",
    "<li>assert statement has a condition and if the condition is not satisfied the program will stop and give AssertionError.\n",
    "<li>assert statement can also have a condition and a optional error message. If the condition is not satisfied assert stops the program and gives AssertionError along with the error message."
   ]
  },
  {
   "cell_type": "code",
   "execution_count": 35,
   "id": "519f7b7f-9e47-4c2b-85ac-413e3b416bab",
   "metadata": {},
   "outputs": [
    {
     "name": "stdout",
     "output_type": "stream",
     "text": [
      "Average of mark2: 78.0\n"
     ]
    },
    {
     "ename": "AssertionError",
     "evalue": "List is empty.",
     "output_type": "error",
     "traceback": [
      "\u001b[0;31m---------------------------------------------------------------------------\u001b[0m",
      "\u001b[0;31mAssertionError\u001b[0m                            Traceback (most recent call last)",
      "Cell \u001b[0;32mIn [35], line 9\u001b[0m\n\u001b[1;32m      6\u001b[0m \u001b[38;5;28mprint\u001b[39m(\u001b[38;5;124m\"\u001b[39m\u001b[38;5;124mAverage of mark2:\u001b[39m\u001b[38;5;124m\"\u001b[39m,avg(mark2))\n\u001b[1;32m      8\u001b[0m mark1 \u001b[38;5;241m=\u001b[39m []\n\u001b[0;32m----> 9\u001b[0m \u001b[38;5;28mprint\u001b[39m(\u001b[38;5;124m\"\u001b[39m\u001b[38;5;124mAverage of mark1:\u001b[39m\u001b[38;5;124m\"\u001b[39m,\u001b[43mavg\u001b[49m\u001b[43m(\u001b[49m\u001b[43mmark1\u001b[49m\u001b[43m)\u001b[49m)\n",
      "Cell \u001b[0;32mIn [35], line 2\u001b[0m, in \u001b[0;36mavg\u001b[0;34m(marks)\u001b[0m\n\u001b[1;32m      1\u001b[0m \u001b[38;5;28;01mdef\u001b[39;00m \u001b[38;5;21mavg\u001b[39m(marks):\n\u001b[0;32m----> 2\u001b[0m     \u001b[38;5;28;01massert\u001b[39;00m \u001b[38;5;28mlen\u001b[39m(marks) \u001b[38;5;241m!=\u001b[39m \u001b[38;5;241m0\u001b[39m,\u001b[38;5;124m\"\u001b[39m\u001b[38;5;124mList is empty.\u001b[39m\u001b[38;5;124m\"\u001b[39m\n\u001b[1;32m      3\u001b[0m     \u001b[38;5;28;01mreturn\u001b[39;00m \u001b[38;5;28msum\u001b[39m(marks)\u001b[38;5;241m/\u001b[39m\u001b[38;5;28mlen\u001b[39m(marks)\n",
      "\u001b[0;31mAssertionError\u001b[0m: List is empty."
     ]
    }
   ],
   "source": [
    "def avg(marks):\n",
    "    assert len(marks) != 0,\"List is empty.\"\n",
    "    return sum(marks)/len(marks)\n",
    "\n",
    "mark2 = [55,88,78,90,79]\n",
    "print(\"Average of mark2:\",avg(mark2))\n",
    "\n",
    "mark1 = [] #it will give error i.e asserstionError\n",
    "print(\"Average of mark1:\",avg(mark1))"
   ]
  },
  {
   "cell_type": "markdown",
   "id": "46d12e36-cb60-404a-ad49-5e4fe54e809c",
   "metadata": {},
   "source": [
    "27. What is the purpose of the with/as argument, and what other statement is it like?"
   ]
  },
  {
   "cell_type": "markdown",
   "id": "51748738-275e-4edc-9545-ce8e95851126",
   "metadata": {},
   "source": [
    "<i>The with statement in Python is used for resource management and exception handling. You’d most likely find it when working with file streams. For example, the statement ensures that the file stream process doesn’t block other processes if an exception is raised, but terminates properly.<br>To open and write to a file in Python, you can use the with statement as follows:\n",
    "<br><br>\n",
    "with open(\"example.txt\", \"w\") as file:<br>\n",
    "&nbsp;&nbsp;&nbsp;&nbsp;&nbsp;file.write(\"Hello World!\")"
   ]
  },
  {
   "cell_type": "markdown",
   "id": "ea97f1be-d06b-4140-aa4c-8a9c69b1e546",
   "metadata": {},
   "source": [
    "28. What are *args, **kwargs?"
   ]
  },
  {
   "cell_type": "markdown",
   "id": "869c1dd5-2b2e-4ff3-b8b9-c5c528882b01",
   "metadata": {},
   "source": [
    "<i>\n",
    "<li>*args and **kwargs are special keyword which allows function to take variable length argument.\n",
    "<li>*args passes variable number of non-keyworded arguments and on which operation of the tuple can be performed.\n",
    "<li>**kwargs passes variable number of keyword arguments dictionary to function on which operation of a dictionary can be performed.\n",
    "<li>*args and **kwargs make the function flexible.<br><br>\n",
    "    \n",
    "    below are the examples of both"
   ]
  },
  {
   "cell_type": "code",
   "execution_count": 40,
   "id": "6f6103dd-5593-4be0-ab03-6a84daff7bf6",
   "metadata": {},
   "outputs": [
    {
     "name": "stdout",
     "output_type": "stream",
     "text": [
      "3\n",
      "15\n",
      "55\n"
     ]
    }
   ],
   "source": [
    "# *args example\n",
    "def adder(*a):\n",
    "    sum=0\n",
    "    for i in a:\n",
    "        sum=sum+i\n",
    "    print(sum)\n",
    "adder(1,2)\n",
    "adder(1,2,3,4,5)\n",
    "adder(1,2,3,4,5,6,7,8,9,10)"
   ]
  },
  {
   "cell_type": "code",
   "execution_count": 44,
   "id": "a2557bea-100a-4a37-b0a6-b77ae43bff2d",
   "metadata": {},
   "outputs": [
    {
     "name": "stdout",
     "output_type": "stream",
     "text": [
      "The type of **kwargs: <class 'dict'>\n",
      "Name:Varun\n",
      "address:India\n",
      "age:24\n",
      "The type of **kwargs: <class 'dict'>\n",
      "Surname:Kardile\n",
      "Email:varun@gmail.com\n"
     ]
    }
   ],
   "source": [
    "# **kwargs example\n",
    "def intro(**a):\n",
    "    print('The type of **kwargs:',type(a))\n",
    "    for key,value in a.items():\n",
    "        print('{}:{}'.format(key,value))\n",
    "intro(Name='Varun',address='India',age=24)\n",
    "intro(Surname='Kardile',Email='varun@gmail.com')"
   ]
  },
  {
   "cell_type": "markdown",
   "id": "fc2e99e7-14ea-4ed5-aa9c-e02d75c9c61e",
   "metadata": {},
   "source": [
    "29. How can I pass optional or keyword parameters from one function to another?"
   ]
  },
  {
   "cell_type": "markdown",
   "id": "3faa395a-fe4b-461c-bd92-6cd3f3c7c7cd",
   "metadata": {},
   "source": [
    "<i>Pass optional or keyword parameters from one function to another\n",
    "To pass, collect the arguments using the * and ** in the function’s parameter list. Through this, you will get the positional arguments as a tuple and the keyword arguments as a dictionary. Pass these arguments when calling another function by using * and ** −\n",
    "<br><br>\n",
    "def f(a, *args, **kwargs):<br>\n",
    "&nbsp;&nbsp;&nbsp;  ...<br>\n",
    "&nbsp;&nbsp;&nbsp;   kwargs['width'] = '14.3c'<br>\n",
    "&nbsp;&nbsp;&nbsp;   ...<br>\n",
    "&nbsp;&nbsp;&nbsp;   g(a, *args, **kwargs)"
   ]
  },
  {
   "cell_type": "markdown",
   "id": "6e79cf12-83f8-4b08-a87f-4e1eb7a5efcf",
   "metadata": {},
   "source": [
    "30. What are Lambda Functions?"
   ]
  },
  {
   "cell_type": "markdown",
   "id": "9140637f-a59f-413f-9157-cf95093bc39c",
   "metadata": {},
   "source": [
    "<i>An anonymous function is a function without a name. In Python, an anonymous function is created with the lambda keyword. More loosely, it may or not be assigned a name.<br>\n",
    "Lambda functions are efficient whenever you want to create a function that will only contain simple expressions – that is, expressions that are usually a single line of a statement. They're also useful when you want to use the function once."
   ]
  },
  {
   "cell_type": "code",
   "execution_count": 49,
   "id": "a2d3de9a-b788-4cea-9efa-e81698c7fb38",
   "metadata": {},
   "outputs": [
    {
     "name": "stdout",
     "output_type": "stream",
     "text": [
      "[2, 3, 4, 5]\n",
      "Sqaures: [4, 9, 16, 25]\n"
     ]
    }
   ],
   "source": [
    "list1 = [2, 3, 4, 5]\n",
    "print(list1)\n",
    "print('Sqaures:',list(map(lambda x: pow(x, 2),list1)))\n"
   ]
  },
  {
   "cell_type": "markdown",
   "id": "7bf3bd59-0f56-40b3-9c89-ca5d8a9ccc60",
   "metadata": {},
   "source": [
    "31. Explain Inheritance in Python with an example?"
   ]
  },
  {
   "cell_type": "markdown",
   "id": "207b1890-274c-445a-8214-6306ca351fcc",
   "metadata": {},
   "source": [
    "<i>\n",
    "<li>Inheritance allows us to define a class that inherits all the methods and properties from another class.\n",
    "\n",
    "<li>Parent class is the class being inherited from, also called base class.\n",
    "\n",
    "<li>Child class is the class that inherits from another class, also called derived class."
   ]
  },
  {
   "cell_type": "code",
   "execution_count": 65,
   "id": "2fa8f7e7-7a1d-4ff6-816e-ee5ffe27cee5",
   "metadata": {},
   "outputs": [
    {
     "name": "stdout",
     "output_type": "stream",
     "text": [
      "Area of Traingle: 30\n",
      "Perimeter of Triangle: 10\n"
     ]
    }
   ],
   "source": [
    "#eg of inheritance\n",
    "class Area():\n",
    "    def getArea(self,l,b,h):\n",
    "        return l*b*h\n",
    "class Perimeter():\n",
    "    def getPerimeter(self,l,b,h):\n",
    "        return l+b+h\n",
    "class triangle(Area,Perimeter):\n",
    "    def __init__(self,l,b,h):\n",
    "        self.l=l\n",
    "        self.b=b\n",
    "        self.h=h\n",
    "    def area(self):\n",
    "        return Area().getArea(self.l,self.b,self.h) #we can use super() keyword also\n",
    "    def perimeter(self):\n",
    "        return Perimeter().getPerimeter(self.l,self.b,self.h)\n",
    "    \n",
    "obj1=triangle(2,3,5)\n",
    "print('Area of Traingle:',obj1.area())\n",
    "print('Perimeter of Triangle:',obj1.perimeter())\n",
    "    "
   ]
  },
  {
   "cell_type": "markdown",
   "id": "bf297b50-6e90-49fc-bfd2-0a59bc227f36",
   "metadata": {},
   "source": [
    "32. Suppose class C inherits from classes A and B as class C(A,B).Classes A and B both have their own versions of method func(). If we call func() from an object of class C, which version gets invoked?"
   ]
  },
  {
   "cell_type": "markdown",
   "id": "e2663782-3a5d-497f-a34b-f1359995553f",
   "metadata": {},
   "source": [
    "<i>\n",
    "<li>when a class inherits from multiple classes (also known as multiple inheritance), the method resolution order (MRO) determines the order in which the parent classes are searched for a method. The MRO is determined by a linearization of the inheritance hierarchy and is used to resolve method name conflicts between multiple parent classes.\n",
    "\n",
    "\n",
    "<li>The MRO in Python follows the C3 linearization algorithm, which gives priority to the leftmost parent class in the inheritance hierarchy. This means that\n",
    "<li>if class C inherits from class A before class B (i.e., class C(A, B)), then the version of func() defined in class A will be invoked."
   ]
  },
  {
   "cell_type": "markdown",
   "id": "d5f011ac-f6ca-4407-a84b-e8332631afe6",
   "metadata": {},
   "source": [
    "33. Which methods/functions do we use to determine the type of instance and inheritance?"
   ]
  },
  {
   "cell_type": "markdown",
   "id": "c0c0909a-d752-4e9e-b58a-56cabc103eca",
   "metadata": {},
   "source": [
    "<i>"
   ]
  },
  {
   "cell_type": "markdown",
   "id": "f7ca9a82-7405-45a4-8862-dbf885e657bd",
   "metadata": {},
   "source": [
    "<i>Use isinstance() to check an instance’s type: isinstance(obj, int) will be True only if obj.__class__ is int or some class derived from int.\n",
    "\n",
    "Use issubclass() to check class inheritance: issubclass(bool, int) is True since bool is a subclass of int. However, issubclass(float, int) is False since float is not a subclass of int."
   ]
  },
  {
   "cell_type": "markdown",
   "id": "117b15cf-6bc8-474e-a006-91f77fac017b",
   "metadata": {},
   "source": [
    "<i>"
   ]
  },
  {
   "cell_type": "code",
   "execution_count": 2,
   "id": "efdbdb24-130b-40a8-983b-751d7537f211",
   "metadata": {},
   "outputs": [
    {
     "name": "stdout",
     "output_type": "stream",
     "text": [
      "True\n",
      "True\n",
      "False\n"
     ]
    }
   ],
   "source": [
    "#The isinstance() method checks whether an object is an instance of a class \n",
    "#The issubclass() method asks whether one class is a subclass of another class (or other classes).\n",
    "class MyClass(object):\n",
    "  pass\n",
    "class MySubClass(MyClass):\n",
    "  pass\n",
    "print(isinstance(MySubClass, object))\n",
    "print(issubclass(MySubClass, MyClass))\n",
    "print(isinstance(MySubClass, MyClass))"
   ]
  },
  {
   "cell_type": "markdown",
   "id": "9f763955-29be-4741-bea4-9a008cec129c",
   "metadata": {},
   "source": [
    "34. Explain the use of the 'nonlocal' keyword in Python."
   ]
  },
  {
   "cell_type": "markdown",
   "id": "cd4be503-dcaa-4f32-a95a-e1c1c0b150ff",
   "metadata": {},
   "source": [
    "<i>The nonlocal is a keyword in python that is used to declare any variable as not local but instead comes from the nearest enclosing scope that is not global.\n",
    "\n",
    "<i>This keyword doesn’t work on global and local variables hence, therefore used to reference a variable in the nearest scope except for the local and global scope i.e value from the nearest enclosing block is taken. It works with variables inside nested functions, to reference a variable in the parent function.\n",
    "    \n",
    "<i>The nonlocal keyword is used to work with variables inside nested functions whose local scopes are not defined.\n",
    "\n",
    "<i>In other words, when we declare a variable as nonlocal, it means it is neither local nor global."
   ]
  },
  {
   "cell_type": "code",
   "execution_count": 10,
   "id": "668df78d-e4f5-422e-8f9f-ef02e6ae63b5",
   "metadata": {},
   "outputs": [
    {
     "name": "stdout",
     "output_type": "stream",
     "text": [
      "myfun2: hello\n",
      "myfunc1: hello\n"
     ]
    }
   ],
   "source": [
    "def myfunc1():\n",
    "  x = \"John\"\n",
    "  def myfunc2():\n",
    "    nonlocal x\n",
    "    x = \"hello\"\n",
    "    print('myfun2:',x)\n",
    "  myfunc2() \n",
    "  print('myfunc1:',x)\n",
    "\n",
    "myfunc1()"
   ]
  },
  {
   "cell_type": "markdown",
   "id": "1ed453c0-c888-4979-aeb3-65941e82cf67",
   "metadata": {},
   "source": [
    "35. What is the global keyword?"
   ]
  },
  {
   "cell_type": "markdown",
   "id": "d37c68cf-f9d0-4299-87b5-7a3a1756d221",
   "metadata": {},
   "source": [
    "<i>In Python, the global keyword allows us to modify the variable outside of the current scope.\n",
    "\n",
    "<i>It is used to create a global variable and make changes to the variable in a local context."
   ]
  },
  {
   "cell_type": "code",
   "execution_count": 11,
   "id": "a0c418e0-6cdb-4139-b61d-ea499d3d8360",
   "metadata": {},
   "outputs": [
    {
     "name": "stdout",
     "output_type": "stream",
     "text": [
      "Value of x inside a function : 20\n",
      "Value of x outside a function : 20\n"
     ]
    }
   ],
   "source": [
    "x = 15\n",
    " \n",
    " \n",
    "def change():\n",
    "    # using a global keyword\n",
    "    global x\n",
    " \n",
    "    # increment value of a by 5\n",
    "    x = x + 5\n",
    "    print(\"Value of x inside a function :\", x)\n",
    " \n",
    " \n",
    "change()\n",
    "print(\"Value of x outside a function :\", x)"
   ]
  },
  {
   "cell_type": "code",
   "execution_count": null,
   "id": "f2880b2c-04ea-40ab-83ae-c462b5eba298",
   "metadata": {},
   "outputs": [],
   "source": []
  }
 ],
 "metadata": {
  "kernelspec": {
   "display_name": "Python 3 (ipykernel)",
   "language": "python",
   "name": "python3"
  },
  "language_info": {
   "codemirror_mode": {
    "name": "ipython",
    "version": 3
   },
   "file_extension": ".py",
   "mimetype": "text/x-python",
   "name": "python",
   "nbconvert_exporter": "python",
   "pygments_lexer": "ipython3",
   "version": "3.10.6"
  }
 },
 "nbformat": 4,
 "nbformat_minor": 5
}
