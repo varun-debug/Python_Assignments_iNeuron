{
 "cells": [
  {
   "cell_type": "markdown",
   "id": "0f6fe1b8-9601-467a-b63a-abdc872d0871",
   "metadata": {},
   "source": [
    "***\n",
    "<h2 style=\"text-align:center\"> Python Assignment</h2>\n",
    "\n",
    "***"
   ]
  },
  {
   "cell_type": "markdown",
   "id": "f06c95b9-b776-4c27-9d0c-3399157f250c",
   "metadata": {},
   "source": [
    "1. Why do we call Python as a general purpose and high-level programming language?"
   ]
  },
  {
   "cell_type": "markdown",
   "id": "c01cfed9-684d-4fd4-9734-55a967cedbad",
   "metadata": {},
   "source": [
    "<i>General purpose because Python can be used in multiple domains like AI, Machine learning...etc. High-level programming language because it is easy to understand and human readable."
   ]
  },
  {
   "cell_type": "markdown",
   "id": "a610cc93-a780-4880-8be3-cd443621b32b",
   "metadata": {},
   "source": [
    "2. Why is Python called a dynamically typed language?"
   ]
  },
  {
   "cell_type": "markdown",
   "id": "2d584a23-ae75-42f1-8709-a90117958dfe",
   "metadata": {},
   "source": [
    "<i> Because variable type is decided at the run eg. If we can write as <br>\n",
    "    a=10 and a=\"Hi\" so when we run it can dynamically identifies which type of variable is this int or string</i>"
   ]
  },
  {
   "cell_type": "markdown",
   "id": "815d9c14-264c-4941-9fef-0adfc6690203",
   "metadata": {},
   "source": [
    "3. List some pros and cons of Python programming language?"
   ]
  },
  {
   "cell_type": "markdown",
   "id": "77c45995-f711-4e4a-977e-92927d3d9635",
   "metadata": {},
   "source": [
    "<b>Pros:-<br></b>\n",
    "    Easy to use<br>\n",
    "    General purpose language<br>\n",
    "    High-level programming language<br>\n",
    "    Vast collections of libraries like pandas,numpy etc.<br>\n",
    "    Open source and large community<br><br>\n",
    "<b>Cons:-<br></b>\n",
    "    No multi threading support<br>\n",
    "    Consumes lot of memory space<br>\n",
    "    Run time errors \n",
    "    "
   ]
  },
  {
   "cell_type": "markdown",
   "id": "02232a23-579f-439f-9592-bc3e715ff53f",
   "metadata": {},
   "source": [
    "4. In what all domains can we use Python?"
   ]
  },
  {
   "cell_type": "markdown",
   "id": "28f0897c-4906-4886-8f8e-c464e2ab416a",
   "metadata": {},
   "source": [
    "<i>Python is used in multiple domains like Data science, Artificial Intelligence, \n",
    "Machine Learning, Web Developement, Game Developement, Networking...etc"
   ]
  },
  {
   "cell_type": "markdown",
   "id": "82233318-272d-4871-89e4-0fed054e8da8",
   "metadata": {},
   "source": [
    "5. What are variable and how can we declare them?\n"
   ]
  },
  {
   "cell_type": "markdown",
   "id": "44fbd7a5-5789-4f1a-855c-90094905ccf2",
   "metadata": {},
   "source": [
    "Variable is used to store the type of data like string, integers, float ...etc\n",
    "we can delcare it using the variable name<br>\n",
    "eg: to declare int type variable varaible_name=int/string/float/bool<br>\n",
    "a=10 or a='Hello' or a=10.5 or a=True/False"
   ]
  },
  {
   "cell_type": "markdown",
   "id": "b0190d90-861f-467d-80c4-de0263036388",
   "metadata": {},
   "source": [
    "6. How can we take an input from the user in Python?"
   ]
  },
  {
   "cell_type": "code",
   "execution_count": 1,
   "id": "23514242-6e94-4674-90dc-a2bc4f91db18",
   "metadata": {},
   "outputs": [
    {
     "name": "stdin",
     "output_type": "stream",
     "text": [
      "Statement: Hello\n"
     ]
    },
    {
     "name": "stdout",
     "output_type": "stream",
     "text": [
      "Hello\n"
     ]
    }
   ],
   "source": [
    "a=input('Statement:')\n",
    "print(a)"
   ]
  },
  {
   "cell_type": "markdown",
   "id": "c8c08b86-a555-4e3d-974e-5ada484b32b3",
   "metadata": {},
   "source": [
    "7. What is the default datatype of the value that has been taken as an input using input() function?"
   ]
  },
  {
   "cell_type": "markdown",
   "id": "6718eda1-5240-4e09-b562-9cceebc1d7ef",
   "metadata": {},
   "source": [
    "<i>default datatype of the value that has been taken as an input using input() functionv is <b>\"String\""
   ]
  },
  {
   "cell_type": "markdown",
   "id": "4008a439-63ab-4e28-b130-f78598878122",
   "metadata": {},
   "source": [
    "8. What is type casting?"
   ]
  },
  {
   "cell_type": "markdown",
   "id": "48b38666-0152-4963-aad8-23b4e6503a4c",
   "metadata": {},
   "source": [
    "<i> Type Casting means converting a varaible datatype to another data type eg. converting \n",
    "    from INT to String eg. a=10 --> d=str(a)"
   ]
  },
  {
   "cell_type": "markdown",
   "id": "28ce007d-ce7a-4da8-bdaf-f8124e364737",
   "metadata": {},
   "source": [
    "9. Can we take more than one input from the user using single input() function? If yes, how? If no, why?"
   ]
  },
  {
   "cell_type": "code",
   "execution_count": 2,
   "id": "6586c661-d351-4b9d-b843-3de8bd277158",
   "metadata": {},
   "outputs": [
    {
     "name": "stdin",
     "output_type": "stream",
     "text": [
      "Enter the 3 values:  10 20 30\n"
     ]
    },
    {
     "name": "stdout",
     "output_type": "stream",
     "text": [
      "First value: 10\n",
      "Second value: 20\n",
      "Third value: 30\n"
     ]
    }
   ],
   "source": [
    "#Yes we can take multiple inputs in python using split function\n",
    "a,b,c=input(\"Enter the 3 values: \").split()\n",
    "print('First value:',a)\n",
    "print('Second value:',b)\n",
    "print('Third value:',c)"
   ]
  },
  {
   "cell_type": "markdown",
   "id": "e2316532-0616-4922-8fce-b21080238519",
   "metadata": {},
   "source": [
    "10. What are keywords?"
   ]
  },
  {
   "cell_type": "markdown",
   "id": "d9b79f01-47f0-4975-8ad6-d8a41c97beca",
   "metadata": {},
   "source": [
    "<i> Keywords are special words that can be used to that specific purpose only and we cannot consider as variable name or any other use<br>\n",
    "    eg: if, for, int, def, True...etc "
   ]
  },
  {
   "cell_type": "markdown",
   "id": "69dd9dd6-6877-4ec0-8560-667e65390894",
   "metadata": {},
   "source": [
    "11. Can we use keywords as a variable? Support your answer with reason."
   ]
  },
  {
   "cell_type": "markdown",
   "id": "f0ad2cfa-4ab0-4167-92bb-5d0fe0b1ed3a",
   "metadata": {},
   "source": [
    "<i>No we cannot use the keywords as variable name because it predefined and reserved words by the compiler<br>\n",
    "eg: a=10(no error) <br>\n",
    "if=20(syntax error)"
   ]
  },
  {
   "cell_type": "markdown",
   "id": "447c86ac-f898-448a-8715-8699e48a747d",
   "metadata": {},
   "source": [
    "12. What is indentation? What's the use of indentaion in Python?"
   ]
  },
  {
   "cell_type": "markdown",
   "id": "2381ad25-90fd-40af-a7f4-a91b97dd20d5",
   "metadata": {},
   "source": [
    "<i>Indentation means spaces at the beginning of the code. It is use to show block of code<br>\n",
    "    eg: if a<10:<br>\n",
    "&nbsp; &nbsp; &nbsp; &nbsp; print('A is small')"
   ]
  },
  {
   "cell_type": "markdown",
   "id": "6a984f48-2c08-4e80-b020-acead13b54c5",
   "metadata": {},
   "source": [
    "13. How can we throw some output in Python?"
   ]
  },
  {
   "cell_type": "markdown",
   "id": "0d2bdf92-1bb6-4375-bba7-597e6d7a0ec0",
   "metadata": {},
   "source": [
    "<i> We can throw output by \"print\" function<br>\n",
    "    Eg: print('Hello World')"
   ]
  },
  {
   "cell_type": "markdown",
   "id": "4fd37d0c-c93c-4fb8-8296-cc78e09bbaea",
   "metadata": {},
   "source": [
    "14. What are operators in Python?"
   ]
  },
  {
   "cell_type": "markdown",
   "id": "d0feb63b-a8a1-4b25-af6c-4d374fee83de",
   "metadata": {},
   "source": [
    "<i> Operators are used to perform operations on variable and values. \n",
    "The differenct types of operators are:-<br>\n",
    "1. Arithemetic(+,-,*,/)\n",
    "2. Assingment(=,+=,=-..)\n",
    "3. Comparison (<,>,<=,>=,!=)\n",
    "4. Logical (and, or, not)\n",
    "5. Identify(is, is not)\n",
    "6. Membership(in, not in)\n",
    "7. Bitwise(&,|,~,^,>>,<<)"
   ]
  },
  {
   "cell_type": "markdown",
   "id": "20e22f25-06fb-49e1-89c6-f01199c07dca",
   "metadata": {},
   "source": [
    "15. What is difference between / and // operators?"
   ]
  },
  {
   "cell_type": "markdown",
   "id": "6186956b-fa95-4f55-a9d7-6cd0863bb2b0",
   "metadata": {},
   "source": [
    "<i> \"/\" is used for normal division and \"//\" is used for floor division means it shows the nearest value to the whole number <br>\n",
    "Eg:<br></i>\n",
    "5/2  -> 2.5 <br>\n",
    "5//2 -> 2"
   ]
  },
  {
   "cell_type": "markdown",
   "id": "88d58805-c2b9-4b86-8050-efd91df1c758",
   "metadata": {},
   "source": [
    "16. Write a code that gives following as an output.<br>\n",
    "iNeuroniNeuroniNeuroniNeuron"
   ]
  },
  {
   "cell_type": "code",
   "execution_count": 7,
   "id": "ac9ffa20-231a-4338-98bf-9cecb458d886",
   "metadata": {},
   "outputs": [
    {
     "name": "stdout",
     "output_type": "stream",
     "text": [
      "iNeuroniNeuroniNeuroniNeuron\n"
     ]
    }
   ],
   "source": [
    "print('iNeuroniNeuroniNeuroniNeuron')"
   ]
  },
  {
   "cell_type": "markdown",
   "id": "81595246-6eb0-4eb3-b705-f83fd8969c54",
   "metadata": {},
   "source": [
    "17. Write a code to take a number as an input from the user and check if the number is odd or even."
   ]
  },
  {
   "cell_type": "code",
   "execution_count": 11,
   "id": "935f16fc-ca93-4540-9824-d3fc34779ea9",
   "metadata": {},
   "outputs": [
    {
     "name": "stdin",
     "output_type": "stream",
     "text": [
      "Enter the no:  6\n"
     ]
    },
    {
     "name": "stdout",
     "output_type": "stream",
     "text": [
      "Even\n"
     ]
    }
   ],
   "source": [
    "a=int(input('Enter the no: '))\n",
    "if(a%2==0):\n",
    "    print(\"Even\")\n",
    "else:\n",
    "    print(\"Odd\")"
   ]
  },
  {
   "cell_type": "markdown",
   "id": "fdb24e64-7c70-435a-932d-0942ee6bca82",
   "metadata": {},
   "source": [
    "18. What are boolean operator?"
   ]
  },
  {
   "cell_type": "markdown",
   "id": "993794a6-b144-4e8e-b315-ddafe2bc2a83",
   "metadata": {},
   "source": [
    "<i> Booleans operators are used in boolean expression to return boolean values i.e True or false\n",
    "    Booleans operators are(And,or,not)or (&&,||,not)<br>\n",
    "    if And:-\n",
    "* True and True = True\n",
    "* True and False = False\n",
    "* False and True = False\n",
    "* False and False = False <br>\n",
    "<i>if Or:-<br>\n",
    "* True or True = True\n",
    "* True or False = True\n",
    "* False or True = True\n",
    "* False or False = False"
   ]
  },
  {
   "cell_type": "markdown",
   "id": "663a060a-c3ca-4a51-8434-66b762296624",
   "metadata": {},
   "source": [
    "19. What will the output of the following?\n",
    "```\n",
    "1 or 0\n",
    "\n",
    "0 and 0\n",
    "\n",
    "True and False and True\n",
    "\n",
    "1 or 0 or 0\n",
    "```"
   ]
  },
  {
   "cell_type": "markdown",
   "id": "86bae93b-3bc1-4fe5-9d6d-35013894b718",
   "metadata": {},
   "source": [
    "<i>Folling is the output:-\n",
    "* 1 or 0 -> 1\n",
    "\n",
    "* 0 and 0 -> 0\n",
    "\n",
    "* True and False and True -> False\n",
    "\n",
    "* 1 or 0 or 0 -> 1\n"
   ]
  },
  {
   "cell_type": "markdown",
   "id": "6f19d7fc-a527-4938-bd5a-9beb1110ea20",
   "metadata": {},
   "source": [
    "20. What are conditional statements in Python?"
   ]
  },
  {
   "cell_type": "markdown",
   "id": "ad33156f-9556-424d-acee-86655ab8ec3c",
   "metadata": {},
   "source": [
    "<i> Conditional statements is used to handle the condition and guide to make the decision\n",
    "    based on the condition given<br>\n",
    "    Python has 3 conditional statements:-\n",
    "* if \n",
    "* if else\n",
    "* if elif else ladder"
   ]
  },
  {
   "cell_type": "markdown",
   "id": "ca8db30a-3491-451d-a63d-142f56e9de79",
   "metadata": {},
   "source": [
    "21. what is use of 'if', 'elif' and 'else' keywords?"
   ]
  },
  {
   "cell_type": "markdown",
   "id": "80996834-03fc-4892-b656-079beaa09aab",
   "metadata": {},
   "source": [
    "* 'if' statement is used whether the block of code will get executed or not \n",
    "* 'elseif' is used to check multiple conditions and execute the block of code within one of the if condition\n",
    "* 'else' works in conjuction with 'if' i.e. if 'if' condition is failed then 'else' will get executed."
   ]
  },
  {
   "cell_type": "markdown",
   "id": "c293c39f-7d5d-4f3c-ae63-86899f9a0cab",
   "metadata": {},
   "source": [
    "22. Write a code to take the age of person as an input and if age >= 18 display \"I can vote\". If age is < 18 display \"I can't vote\"."
   ]
  },
  {
   "cell_type": "code",
   "execution_count": 18,
   "id": "b837418d-a1db-4042-b050-8d9573f0e74e",
   "metadata": {},
   "outputs": [
    {
     "name": "stdin",
     "output_type": "stream",
     "text": [
      "Enter your age:  17\n"
     ]
    },
    {
     "name": "stdout",
     "output_type": "stream",
     "text": [
      "I can't vote\n"
     ]
    }
   ],
   "source": [
    "age=int(input('Enter your age: '))\n",
    "if(age >= 18):\n",
    "    print(\"I can vote\")\n",
    "else:\n",
    "    print(\"I can't vote\")"
   ]
  },
  {
   "cell_type": "markdown",
   "id": "99049408-ef48-4bfb-82f2-cc907ec573ff",
   "metadata": {},
   "source": [
    "23. Write a code that displays the sum of all the even numbers from the given list.<br>\n",
    "numbers = [12, 75, 150, 180, 145, 525, 50]"
   ]
  },
  {
   "cell_type": "code",
   "execution_count": 20,
   "id": "2602fb27-086a-4a90-945b-62d89e5d8d11",
   "metadata": {},
   "outputs": [
    {
     "name": "stdout",
     "output_type": "stream",
     "text": [
      "392\n"
     ]
    }
   ],
   "source": [
    "numbers =[12,75,150,180,145,525,50]\n",
    "res=0\n",
    "for i in numbers:\n",
    "    if(i%2==0):\n",
    "        res += i;\n",
    "print(res)"
   ]
  },
  {
   "cell_type": "markdown",
   "id": "8500d8c1-374a-48ca-a352-ea7b9453174a",
   "metadata": {},
   "source": [
    "24. Write a code to take 3 numbers as an input from the user and display the greatest no as output."
   ]
  },
  {
   "cell_type": "code",
   "execution_count": 23,
   "id": "6dfbd9e0-6d0d-45da-b7e2-4aded8f8c4f9",
   "metadata": {},
   "outputs": [
    {
     "name": "stdin",
     "output_type": "stream",
     "text": [
      "Enter the 1st no: 30\n",
      "Enter the 2nd no: 40\n",
      "Enter the 3rd no: 20\n"
     ]
    },
    {
     "name": "stdout",
     "output_type": "stream",
     "text": [
      "40  is the greatest of three\n"
     ]
    }
   ],
   "source": [
    "a=int(input('Enter the 1st no:'))\n",
    "b=int(input('Enter the 2nd no:'))\n",
    "c=int(input('Enter the 3rd no:'))\n",
    "\n",
    "if(a<b and a<c):\n",
    "    print(a,' is the greatest of three')\n",
    "elif(b>a and b>c):\n",
    "    print(b,' is the greatest of three')\n",
    "else:\n",
    "    print(c,' is the greatest of three')"
   ]
  },
  {
   "cell_type": "markdown",
   "id": "f5da343d-6565-4a5a-aaa5-7f2a4c7039ed",
   "metadata": {},
   "source": [
    "25. Write a program to display only those numbers from a list that satisfy the following conditions\n",
    "\n",
    "- The number must be divisible by five\n",
    "\n",
    "- If the number is greater than 150, then skip it and move to the next number\n",
    "\n",
    "- If the number is greater than 500, then stop the loop\n",
    "```\n",
    "numbers = [12, 75, 150, 180, 145, 525, 50]\n",
    "```"
   ]
  },
  {
   "cell_type": "code",
   "execution_count": 27,
   "id": "2c8ff3d4-22ed-44a0-9777-14ffc7e1908d",
   "metadata": {},
   "outputs": [
    {
     "name": "stdout",
     "output_type": "stream",
     "text": [
      "180\n"
     ]
    }
   ],
   "source": [
    "numbers =[12,75,150,180,145,525,50]\n",
    "for i in numbers:\n",
    "    if(i%5==0 and i>150 and i<500):\n",
    "        print(i)\n",
    "\n",
    "        "
   ]
  },
  {
   "cell_type": "code",
   "execution_count": null,
   "id": "db370f7f-8903-43cd-b947-396dc8230974",
   "metadata": {},
   "outputs": [],
   "source": []
  }
 ],
 "metadata": {
  "kernelspec": {
   "display_name": "Python 3 (ipykernel)",
   "language": "python",
   "name": "python3"
  },
  "language_info": {
   "codemirror_mode": {
    "name": "ipython",
    "version": 3
   },
   "file_extension": ".py",
   "mimetype": "text/x-python",
   "name": "python",
   "nbconvert_exporter": "python",
   "pygments_lexer": "ipython3",
   "version": "3.10.6"
  }
 },
 "nbformat": 4,
 "nbformat_minor": 5
}
