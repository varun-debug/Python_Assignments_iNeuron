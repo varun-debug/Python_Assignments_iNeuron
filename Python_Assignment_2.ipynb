{
 "cells": [
  {
   "cell_type": "markdown",
   "id": "f4edf07d-a711-4693-aa6c-2638fa089815",
   "metadata": {},
   "source": [
    "***\n",
    "<h2 style=\"text-align:center\"> Python Assignment 2(Mega Assingment)</h2>\n",
    "<i> Will continue from question no. 26 as python 1 assignment already contains answers till question no. 25 </i>\n",
    "\n",
    "***"
   ]
  },
  {
   "cell_type": "markdown",
   "id": "c5aca208-e66b-4494-a686-088b34454c6e",
   "metadata": {},
   "source": [
    "26.  What is a string? How can we declare string in Python?"
   ]
  },
  {
   "cell_type": "markdown",
   "id": "30fbfb1d-1c04-44f2-bd4d-3481eb857661",
   "metadata": {},
   "source": [
    "<i> String is a sequence of characteres eg. \"hello\".In python by default if data type is not mentioned then it is considered as string. In python we declare string in single/double quotes eg. str=\"Python programming\" "
   ]
  },
  {
   "cell_type": "markdown",
   "id": "91ba5d52-a41b-485d-9403-b50b47aadb91",
   "metadata": {},
   "source": [
    "27. How can we access the string using its index?"
   ]
  },
  {
   "cell_type": "code",
   "execution_count": 1,
   "id": "f12ffe7a-b217-4bb5-bcbe-c3c45236d7e5",
   "metadata": {},
   "outputs": [
    {
     "data": {
      "text/plain": [
       "'o'"
      ]
     },
     "execution_count": 1,
     "metadata": {},
     "output_type": "execute_result"
    }
   ],
   "source": [
    "#we can access string using square brackets \n",
    "str1='Hello world'\n",
    "str1[4]"
   ]
  },
  {
   "cell_type": "markdown",
   "id": "488961a1-1563-49b4-bdae-20807d67cedb",
   "metadata": {},
   "source": [
    "28. Write a code to get the desired output of the following\n",
    "```\n",
    "string = \"Big Data iNeuron\"\n",
    "desired_output = \"iNeuron\"\n",
    "```"
   ]
  },
  {
   "cell_type": "code",
   "execution_count": 2,
   "id": "8880ddd0-e8fb-4b94-9f53-1effab60d4dd",
   "metadata": {},
   "outputs": [
    {
     "data": {
      "text/plain": [
       "'iNeuron'"
      ]
     },
     "execution_count": 2,
     "metadata": {},
     "output_type": "execute_result"
    }
   ],
   "source": [
    "string = \"Big Data iNeuron\"\n",
    "string[9:]"
   ]
  },
  {
   "cell_type": "markdown",
   "id": "7638f078-b1cc-4cfc-bf3b-1c4c8fb0b16f",
   "metadata": {},
   "source": [
    "29. Write a code to get the desired output of the following\n",
    "```\n",
    "string = \"Big Data iNeuron\"\n",
    "desired_output = \"norueNi\"\n",
    "```"
   ]
  },
  {
   "cell_type": "code",
   "execution_count": 3,
   "id": "d1b61246-6c19-4bba-8f9f-6749fcbb4f70",
   "metadata": {},
   "outputs": [
    {
     "data": {
      "text/plain": [
       "'norueNi'"
      ]
     },
     "execution_count": 3,
     "metadata": {},
     "output_type": "execute_result"
    }
   ],
   "source": [
    "string = \"Big Data iNeuron\"\n",
    "string[-1:-8:-1]"
   ]
  },
  {
   "cell_type": "markdown",
   "id": "c92dd85d-279f-4836-9ee9-8d78181be3e1",
   "metadata": {},
   "source": [
    "30. Resverse the string given in the above question."
   ]
  },
  {
   "cell_type": "code",
   "execution_count": 4,
   "id": "049adf8f-53d9-4d2d-b4d1-ea0bdf87f262",
   "metadata": {},
   "outputs": [
    {
     "data": {
      "text/plain": [
       "'norueNi ataD giB'"
      ]
     },
     "execution_count": 4,
     "metadata": {},
     "output_type": "execute_result"
    }
   ],
   "source": [
    "string = \"Big Data iNeuron\"\n",
    "string[-1::-1]"
   ]
  },
  {
   "cell_type": "markdown",
   "id": "001d4dba-302e-4783-bce9-9102d6e141b7",
   "metadata": {},
   "source": [
    "31. How can you delete entire string at once?\n"
   ]
  },
  {
   "cell_type": "code",
   "execution_count": 5,
   "id": "7e22633b-3106-4546-9e8a-1c320ad5c47d",
   "metadata": {},
   "outputs": [
    {
     "ename": "NameError",
     "evalue": "name 'str1' is not defined",
     "output_type": "error",
     "traceback": [
      "\u001b[0;31m---------------------------------------------------------------------------\u001b[0m",
      "\u001b[0;31mNameError\u001b[0m                                 Traceback (most recent call last)",
      "Cell \u001b[0;32mIn [5], line 4\u001b[0m\n\u001b[1;32m      2\u001b[0m str1\u001b[38;5;241m=\u001b[39m\u001b[38;5;124m\"\u001b[39m\u001b[38;5;124mhello\u001b[39m\u001b[38;5;124m\"\u001b[39m\n\u001b[1;32m      3\u001b[0m \u001b[38;5;28;01mdel\u001b[39;00m(str1)\n\u001b[0;32m----> 4\u001b[0m \u001b[38;5;28mprint\u001b[39m(\u001b[43mstr1\u001b[49m)\n",
      "\u001b[0;31mNameError\u001b[0m: name 'str1' is not defined"
     ]
    }
   ],
   "source": [
    "#we can delete string using \"del\" keyword\n",
    "str1=\"hello\"\n",
    "del(str1)\n",
    "print(str1)"
   ]
  },
  {
   "cell_type": "markdown",
   "id": "383abbf2-e760-4d35-8d4b-9a34b37bbfd9",
   "metadata": {},
   "source": [
    "32. What is escape sequence?"
   ]
  },
  {
   "cell_type": "markdown",
   "id": "8fbf201f-6be5-4ede-8045-54c1680b0014",
   "metadata": {},
   "source": [
    "<i> Escape sequence are used illegal characters so we use backslash to escape the characters <br> below are few examples:-\n",
    "* \\n for new line\n",
    "* \\\\\\ for backslash\n",
    "* \\\\' for single quotes"
   ]
  },
  {
   "cell_type": "markdown",
   "id": "8096739c-3a47-4fe7-b4cf-b39da162d093",
   "metadata": {},
   "source": [
    "33. How can you print the below string?\n",
    "```\n",
    "'iNeuron's Big Data Course'\n",
    "```"
   ]
  },
  {
   "cell_type": "code",
   "execution_count": null,
   "id": "29100813-22ec-4854-8871-0493b1765db0",
   "metadata": {},
   "outputs": [],
   "source": [
    "print('\\'iNeuron\\'s Big Data Course\\'')"
   ]
  },
  {
   "cell_type": "markdown",
   "id": "c756289a-fd59-44dc-b803-cb8df0b6dfee",
   "metadata": {},
   "source": [
    "34. What is a list in Python?"
   ]
  },
  {
   "cell_type": "markdown",
   "id": "6ac59c97-496c-4275-8151-71946a714f0f",
   "metadata": {},
   "source": [
    "<i> list are used to store multiple values in a single variable. It is an ordered data structure\n"
   ]
  },
  {
   "cell_type": "markdown",
   "id": "554c956f-ded2-4f75-b4af-e0a9c52facaa",
   "metadata": {},
   "source": [
    "35. How can you create a list in Python?"
   ]
  },
  {
   "cell_type": "code",
   "execution_count": null,
   "id": "0275dcd4-ede4-434a-bdd6-e2cbbae8e974",
   "metadata": {},
   "outputs": [],
   "source": [
    "#we can create list using square braces and values separated by commas\n",
    "list1=[\"hello\",'world',123,'python']\n",
    "list1"
   ]
  },
  {
   "cell_type": "markdown",
   "id": "8f99bbcf-6fe8-4d41-83a3-56d7dbe177e2",
   "metadata": {},
   "source": [
    "36. How can we access the elements in a list?"
   ]
  },
  {
   "cell_type": "markdown",
   "id": "898b8176-ed9d-4731-975b-49b25b908866",
   "metadata": {},
   "source": [
    "<i>We uses square braces to access the elements in the list eg. str=\"hello\" str[2]"
   ]
  },
  {
   "cell_type": "markdown",
   "id": "4ea161c3-597a-48cf-a75c-9e746bf5d27f",
   "metadata": {},
   "source": [
    "37. Write a code to access the word \"iNeuron\" from the given list.\n",
    "```\n",
    "list1 = [1,2,3,\"Hi\",[45,54, \"iNeuron\"], \"Big Data\"]"
   ]
  },
  {
   "cell_type": "code",
   "execution_count": null,
   "id": "cd6599dd-909c-48c4-a901-5af738992610",
   "metadata": {},
   "outputs": [],
   "source": [
    "list1 = [1,2,3,\"Hi\",[45,54, \"iNeuron\"], \"Big Data\"]\n",
    "list1[4][2]"
   ]
  },
  {
   "cell_type": "markdown",
   "id": "2c8e9e1e-06fa-4a2c-b1f1-817ce1625623",
   "metadata": {},
   "source": [
    "38. Take a list as an input from the user and find the length of the list."
   ]
  },
  {
   "cell_type": "code",
   "execution_count": null,
   "id": "5a24f104-a2f9-4e44-8f0f-5370cd285a1d",
   "metadata": {},
   "outputs": [],
   "source": [
    "str1=[]\n",
    "n = int(input('Enter the no. of elements you want in list'))\n",
    "for i in range(0,n):\n",
    "    res=input()\n",
    "    str1.append(res)\n",
    "print('Length of list: ',len(str1))"
   ]
  },
  {
   "cell_type": "markdown",
   "id": "78d0b60a-007c-4ac5-8f9b-282c2326031b",
   "metadata": {},
   "source": [
    "39. Add the word \"Big\" in the 3rd index of the given list.\n",
    "```\n",
    "lst = [\"Welcome\", \"to\", \"Data\", \"course\"]"
   ]
  },
  {
   "cell_type": "code",
   "execution_count": null,
   "id": "970bde34-44cc-4e71-ab29-73becb82e5fe",
   "metadata": {},
   "outputs": [],
   "source": [
    "#In both ways list in first I am adding to 3rd element\n",
    "lst = [\"Welcome\", \"to\", \"Data\", \"course\"]\n",
    "lst.insert(2,\"Big\")\n",
    "print(lst)\n",
    "\n",
    "#Here I am adding \"Big\" just before the Data at same index\n",
    "lst = [\"Welcome\", \"to\", \"Data\", \"course\"]\n",
    "lst[2] = \"Big \" + lst[2]\n",
    "print(lst)"
   ]
  },
  {
   "cell_type": "markdown",
   "id": "a655899a-8005-4422-959d-8be7384f9b91",
   "metadata": {},
   "source": [
    "40. What is a tuple? How is it different from list?"
   ]
  },
  {
   "cell_type": "markdown",
   "id": "d3a62ef3-ece9-4fc3-966e-58401dd19738",
   "metadata": {},
   "source": [
    "<i> Tuples are same as list but tuples are immutable. They are declare using round braces.We cannot add or remove element in tuple <br>\n",
    "    eg. tup1=(1,2,'Hello')"
   ]
  },
  {
   "cell_type": "markdown",
   "id": "1ba9c701-bb5d-44a3-80f6-fdbebaa34904",
   "metadata": {},
   "source": [
    "41. How can you create a tuple in Python?"
   ]
  },
  {
   "cell_type": "code",
   "execution_count": null,
   "id": "175fd78a-7cd8-4560-8d17-780b1fc6ccb1",
   "metadata": {},
   "outputs": [],
   "source": [
    "#Tuple can be created using round braces\n",
    "tup1=(1,2,3,4,'Hello')\n",
    "tup1"
   ]
  },
  {
   "cell_type": "markdown",
   "id": "98b7378b-5a55-43cf-8c2d-4195a8195d90",
   "metadata": {},
   "source": [
    "42. Create a tuple and try to add your name in the tuple. Are you able to do it? Support your answer with reason."
   ]
  },
  {
   "cell_type": "markdown",
   "id": "65c79b09-c0ec-411e-bac8-fb69e9148602",
   "metadata": {},
   "source": [
    "<i> We cannot add item if tuple is already created. Tuple are immutable so we cannot add or delete the element in the tuple. Tuple does not contain any methods like list i.e insert, append or delete "
   ]
  },
  {
   "cell_type": "markdown",
   "id": "78a4a433-4a50-4b1c-84db-505169f629ef",
   "metadata": {},
   "source": [
    "43. Can two tuple be appended. If yes, write a code for it. If not, why?"
   ]
  },
  {
   "cell_type": "code",
   "execution_count": null,
   "id": "8454dd11-6340-48ee-8796-48822c88fee6",
   "metadata": {},
   "outputs": [],
   "source": [
    "#We cannot append two tuples directly but we can concat two tuple by adding them to 3rd tuple or converting them into the list first\n",
    "tup1=(1,2,3,4)\n",
    "tup2=(5,6,7,8)\n",
    "list_res=[tup1 + tup2]\n",
    "print(list_res)"
   ]
  },
  {
   "cell_type": "markdown",
   "id": "8960ce9b-e003-463d-b579-31536b21e153",
   "metadata": {},
   "source": [
    "44. Take a tuple as an input and print the count of elements in it."
   ]
  },
  {
   "cell_type": "code",
   "execution_count": null,
   "id": "f6d760f8-6f4d-4653-85a3-dd7e8aad5d96",
   "metadata": {},
   "outputs": [],
   "source": [
    "tup1=(1,2,3,4,5,'Hello')\n",
    "print(len(tup1))"
   ]
  },
  {
   "cell_type": "markdown",
   "id": "84432820-6acd-4e13-af8e-7023c55a4554",
   "metadata": {},
   "source": [
    "45. What are sets in Python?"
   ]
  },
  {
   "cell_type": "markdown",
   "id": "acd2b2bb-03e2-49b0-9c71-a0ad0b9b1d63",
   "metadata": {},
   "source": [
    "<i> A Set in Python is an unordered collection data type that is iterable, mutable and has no duplicate elements. "
   ]
  },
  {
   "cell_type": "markdown",
   "id": "a12abe80-540f-488e-88bb-eb36f75da98b",
   "metadata": {},
   "source": [
    "46. How can you create a set?"
   ]
  },
  {
   "cell_type": "code",
   "execution_count": null,
   "id": "515d8fc5-dcd8-4a7d-9c7f-d100e0ba0ce8",
   "metadata": {},
   "outputs": [],
   "source": [
    "#We create sets by putting all elements in the \"{}\" braces\n",
    "set1={1,2,3,\"Hello\"}\n",
    "type(set1)"
   ]
  },
  {
   "cell_type": "markdown",
   "id": "16b35974-13a3-465c-8474-3f8640d0bbc5",
   "metadata": {},
   "source": [
    "47. Create a set and add \"iNeuron\" in your set."
   ]
  },
  {
   "cell_type": "code",
   "execution_count": null,
   "id": "ebbabec2-e853-4aea-877c-9b293c42381b",
   "metadata": {},
   "outputs": [],
   "source": [
    "set1={1,2,3,\"Hello\"}\n",
    "set1.add(\"iNeuron\")\n",
    "set1"
   ]
  },
  {
   "cell_type": "markdown",
   "id": "88c2eabf-440f-419b-9296-d8ac8a75c6ff",
   "metadata": {},
   "source": [
    "48. Try to add multiple values using add() function."
   ]
  },
  {
   "cell_type": "code",
   "execution_count": null,
   "id": "7071d3c2-4d4c-4883-b752-fceada979407",
   "metadata": {},
   "outputs": [],
   "source": [
    "set1={1,2,3,\"Hello\"}\n",
    "set1.add(\"Hi\")\n",
    "set1.add(321)\n",
    "set1.add(\"Python\")\n",
    "set1"
   ]
  },
  {
   "cell_type": "markdown",
   "id": "08753147-837e-40be-a551-c243b6584e89",
   "metadata": {},
   "source": [
    "49. How is update() different from add()?"
   ]
  },
  {
   "cell_type": "markdown",
   "id": "8adc2365-a675-4f3d-bea7-2ba9dd6e72a3",
   "metadata": {},
   "source": [
    "<i> add() accepts only single value whereas update() accepts multiple values.\n",
    "    add() accepts immutable argument i.e set,tuple etc.. whereas update() accepts iterable sequence only i.e. like list\n",
    "    "
   ]
  },
  {
   "cell_type": "markdown",
   "id": "688a60bc-a697-4ef8-a123-12f8f924b42b",
   "metadata": {},
   "source": [
    "50. What is clear() in sets?"
   ]
  },
  {
   "cell_type": "code",
   "execution_count": null,
   "id": "97fc9d11-d6f8-4ac2-a8ef-e59070ee55c5",
   "metadata": {},
   "outputs": [],
   "source": [
    "#Clear function clears all the elements in the SET\n",
    "set1={1,2,3,4,5}\n",
    "set1.clear()\n",
    "print(set1)"
   ]
  },
  {
   "cell_type": "markdown",
   "id": "2887de54-9809-4057-91e1-e2986820ff74",
   "metadata": {},
   "source": [
    "51. What is frozen set?"
   ]
  },
  {
   "cell_type": "markdown",
   "id": "86e47f9b-6f7e-444b-90fa-0e9d34485009",
   "metadata": {},
   "source": [
    "<i> Fronzen set is immutable fronzenset object. Elements of the Frozen set remain after creation. "
   ]
  },
  {
   "cell_type": "markdown",
   "id": "a66e84e9-636f-41d6-84a5-1ee019565fe5",
   "metadata": {},
   "source": [
    "52. How is frozen set different from set?"
   ]
  },
  {
   "cell_type": "markdown",
   "id": "afe9bc4b-1b5b-4060-9bfb-b6a78946b6de",
   "metadata": {},
   "source": [
    "<i> Frozen set are hashable, you can use elements as a dictonary key or elements from the another set<br>\n",
    "    You can't add or remove elements from the frozet set."
   ]
  },
  {
   "cell_type": "markdown",
   "id": "87307308-a769-42e5-b76f-7b0fa7d24f4e",
   "metadata": {},
   "source": [
    "53. What is union() in sets? Explain via code."
   ]
  },
  {
   "cell_type": "code",
   "execution_count": null,
   "id": "d81513a6-27c5-4be4-a403-00f171ba23ac",
   "metadata": {},
   "outputs": [],
   "source": [
    "# Union of both set contains all elements of both sets such that no elements are repeated\n",
    "a={1,2,3,4,4}\n",
    "b={6,4,7,8}\n",
    "print(a.union(b))"
   ]
  },
  {
   "cell_type": "markdown",
   "id": "5e8af7cf-612e-4937-9609-207484cfd973",
   "metadata": {},
   "source": [
    "54. What is intersection() in sets? Explain via code"
   ]
  },
  {
   "cell_type": "code",
   "execution_count": null,
   "id": "7861a3e5-0fcf-4a38-ac4d-adb7a1210220",
   "metadata": {},
   "outputs": [],
   "source": [
    "#Intersection of both set contains common elements of both set\n",
    "a={1,2,3,3,4,5,5}\n",
    "b={2,3,4,1,5}\n",
    "print(a.intersection(b))"
   ]
  },
  {
   "cell_type": "markdown",
   "id": "14fd4572-fd1c-47fc-a015-09978c9142cf",
   "metadata": {},
   "source": [
    "55.  What is dictionary in Python?"
   ]
  },
  {
   "cell_type": "markdown",
   "id": "15a58f2b-c540-4875-bdd1-6a3733cdb8b3",
   "metadata": {},
   "source": [
    "<i> Dictionary in python stores key values pairs"
   ]
  },
  {
   "cell_type": "markdown",
   "id": "2e21775c-ba16-41da-90eb-0fbad9dd0d41",
   "metadata": {},
   "source": [
    "56. How is dictionary different from all other data structures."
   ]
  },
  {
   "cell_type": "markdown",
   "id": "bb71f3e5-aadc-4e42-bffe-35376054fefb",
   "metadata": {},
   "source": [
    "<i> Dictionary in python stores key value pairs. The keys are unique but values can be or may not be unique.<br>\n",
    "    It supports variety of methos"
   ]
  },
  {
   "cell_type": "markdown",
   "id": "0cb6c74d-ef11-408b-9eb6-c5109890302b",
   "metadata": {},
   "source": [
    "57. How can we delare a dictionary in Python?"
   ]
  },
  {
   "cell_type": "code",
   "execution_count": null,
   "id": "1e2d7148-796c-48e3-b7b7-0932d52fd371",
   "metadata": {},
   "outputs": [],
   "source": [
    "# we can declare dictory using curly {} braces\n",
    "a={}\n",
    "print(type(a))"
   ]
  },
  {
   "cell_type": "markdown",
   "id": "6040809f-e676-465c-b952-77ad76a2df4a",
   "metadata": {},
   "source": [
    "58. What will the output of the following?\n",
    "```\n",
    "var = {}\n",
    "print(type(var))\n",
    "```"
   ]
  },
  {
   "cell_type": "markdown",
   "id": "861414b1-4384-41de-8078-07114083a31c",
   "metadata": {},
   "source": [
    "<i> It will show the type of the var i.e. Dictionary"
   ]
  },
  {
   "cell_type": "markdown",
   "id": "2bf356bc-c98d-49da-99d5-5636a19b29b1",
   "metadata": {},
   "source": [
    "59. How can we add an element in a dictionary?"
   ]
  },
  {
   "cell_type": "code",
   "execution_count": null,
   "id": "d3d22add-7631-4057-998b-f17040f04c81",
   "metadata": {},
   "outputs": [],
   "source": [
    "var = { 'one': 1, 'two':2}\n",
    "print('before adding:',var)\n",
    "var['three']=3\n",
    "print('after adding:',var)"
   ]
  },
  {
   "cell_type": "markdown",
   "id": "4ee91d14-dafc-43c7-a2c2-d769981b995c",
   "metadata": {},
   "source": [
    "60.  Create a dictionary and access all the values in that dictionary."
   ]
  },
  {
   "cell_type": "code",
   "execution_count": null,
   "id": "4d40e736-d1f6-4fd4-95ee-e74fc19a265f",
   "metadata": {},
   "outputs": [],
   "source": [
    "var={'one': 1,\n",
    "     'two': 2,\n",
    "     'three':3,\n",
    "     'four':4}\n",
    "print(var.values())"
   ]
  },
  {
   "cell_type": "markdown",
   "id": "e153683e-7ffd-47ba-b3fd-022a8bbf382b",
   "metadata": {},
   "source": [
    "61. Create a nested dictionary and access all the element in the inner dictionary."
   ]
  },
  {
   "cell_type": "code",
   "execution_count": null,
   "id": "4b84a2ac-9dd7-4725-90db-abc6380fffc6",
   "metadata": {},
   "outputs": [],
   "source": [
    "my_dict={'name':'Varun',\n",
    "         'age':20,\n",
    "         'email':'varun@gmail.com',\n",
    "         'Mob_no':1234567890,\n",
    "         'Edu':{'Diploma':'IT',\n",
    "                'B.E':'IT'}\n",
    "        }\n",
    "for i in my_dict:\n",
    "    print(i,':',my_dict[i])"
   ]
  },
  {
   "cell_type": "markdown",
   "id": "430db776-fb17-4482-a785-a212fcb37a9c",
   "metadata": {},
   "source": [
    "62.  What is the use of get() function?"
   ]
  },
  {
   "cell_type": "code",
   "execution_count": null,
   "id": "424007b7-a786-48a0-9de5-4dac577de979",
   "metadata": {},
   "outputs": [],
   "source": [
    "# get() is used to return the value of particular key which is in dictionary if not present in dictionary then it will return null\n",
    "var = {'price': 10000}\n",
    "var.get('price')"
   ]
  },
  {
   "cell_type": "markdown",
   "id": "6125be9d-5b3b-4e75-a43b-4da89da6dc16",
   "metadata": {},
   "source": [
    "63. What is the use of items() function?"
   ]
  },
  {
   "cell_type": "markdown",
   "id": "372e151c-c516-4f78-8207-8cb7f6caa81f",
   "metadata": {},
   "source": [
    "<i>The items() method is used to return each value in the dictionary as a tuple"
   ]
  },
  {
   "cell_type": "markdown",
   "id": "0a715357-dc3d-447b-af4b-f1836fdb3431",
   "metadata": {},
   "source": [
    "64. What is the use of pop() function?"
   ]
  },
  {
   "cell_type": "code",
   "execution_count": null,
   "id": "1c80c62b-1218-4b06-bf78-b0cd403cfa95",
   "metadata": {},
   "outputs": [],
   "source": [
    "#pop function is used to remove the value from dictionary, list and set but in tuple we cannot we pop function\n",
    "cars = {'Mercedes Benz': 1, 'BMW': 2, 'Jeep': 3, 'Mahindra': 4, 'Maserati': 5}\n",
    "\n",
    "print(cars)\n",
    "\n",
    "print(cars.pop('BMW'))\n",
    "\n",
    "print('After poping:',cars)"
   ]
  },
  {
   "cell_type": "markdown",
   "id": "7c939a91-5519-47dd-85af-a79dc8bdfe6b",
   "metadata": {},
   "source": [
    "65. What is the use of popitems() function?"
   ]
  },
  {
   "cell_type": "code",
   "execution_count": null,
   "id": "7621abf2-062d-4eae-8a32-c01b3b9a4f87",
   "metadata": {},
   "outputs": [],
   "source": [
    "#popitems removes the item that was inserted into the dictionary i.e. the last item\n",
    "cars = {'Mercedes Benz': 1, 'BMW': 2, 'Jeep': 3, 'Mahindra': 4, 'Maserati': 5}\n",
    "print('before popping:',cars)\n",
    "cars.popitem()\n",
    "print('after popping:',cars)"
   ]
  },
  {
   "cell_type": "markdown",
   "id": "4253002f-66aa-4321-8837-b329843aba73",
   "metadata": {},
   "source": [
    "66. What is the use of keys() function?"
   ]
  },
  {
   "cell_type": "code",
   "execution_count": null,
   "id": "cb12169d-91ef-4143-9923-cce1535dca32",
   "metadata": {},
   "outputs": [],
   "source": [
    "#keys used to shows all the keys of that particular dictionary\n",
    "cars = {'Mercedes Benz': 1, 'BMW': 2, 'Jeep': 3, 'Mahindra': 4, 'Maserati': 5}\n",
    "print(cars.keys())"
   ]
  },
  {
   "cell_type": "markdown",
   "id": "ef21d916-58bb-4dd5-a9f6-81f475c328e3",
   "metadata": {},
   "source": [
    "67. What is the use of values() function?"
   ]
  },
  {
   "cell_type": "code",
   "execution_count": null,
   "id": "ae823b6a-37cd-4792-9ebd-72f79ee6ae00",
   "metadata": {},
   "outputs": [],
   "source": [
    "#values are used to show all the values of that particular dictionary\n",
    "cars = {'Mercedes Benz': 1, 'BMW': 2, 'Jeep': 3, 'Mahindra': 4, 'Maserati': 5}\n",
    "print(cars.values())"
   ]
  },
  {
   "cell_type": "markdown",
   "id": "d858e374-accd-4635-8dc2-00ffd204fe3a",
   "metadata": {},
   "source": [
    "68. What are loops in Python?"
   ]
  },
  {
   "cell_type": "markdown",
   "id": "cdf101ce-e66b-45ad-be39-28c0056e56e5",
   "metadata": {},
   "source": [
    "<i> looping means repeating something over and over again till the condition is satisfied eg. While, for etc.."
   ]
  },
  {
   "cell_type": "markdown",
   "id": "33096dfe-2c18-469a-bc29-1900d1886cd6",
   "metadata": {},
   "source": [
    "69. How many type of loop are there in Python?"
   ]
  },
  {
   "cell_type": "markdown",
   "id": "ea7a838c-9775-49be-b89b-50c0b4ebbfa3",
   "metadata": {},
   "source": [
    "<i> there are two types of loop in python<br></i>\n",
    "<li>FOR\n",
    "<li>While"
   ]
  },
  {
   "cell_type": "markdown",
   "id": "aa4dca32-07c0-45dd-a2a8-c4778fcae8fe",
   "metadata": {},
   "source": [
    "70. What is the difference between for and while loops?"
   ]
  },
  {
   "cell_type": "markdown",
   "id": "d32338ad-294d-4ff5-bb41-6468971e8cf9",
   "metadata": {},
   "source": [
    "<i> The major difference between for loop and while loop is that in the case of for loop the number of iterations is known whereas in the case of the while loop number of iterations is unknown and the statement will run until the condition is proved false."
   ]
  },
  {
   "cell_type": "markdown",
   "id": "9d2c5669-3c1f-4cbb-8111-69aba7467e12",
   "metadata": {},
   "source": [
    "71. What is the use of continue statement?"
   ]
  },
  {
   "cell_type": "markdown",
   "id": "9f40a0cb-b14d-4d26-91ac-2a8ba1906076",
   "metadata": {},
   "source": [
    "<i>A continue statement ends the current iteration of a loop. Program control is passed from the continue statement to the end of the loop body"
   ]
  },
  {
   "cell_type": "markdown",
   "id": "742af8f8-2faa-4a03-859c-e05b95883a67",
   "metadata": {},
   "source": [
    "72. What is the use of break statement?"
   ]
  },
  {
   "cell_type": "markdown",
   "id": "ecfb7485-93fc-42c1-9874-ade8df7e21d3",
   "metadata": {},
   "source": [
    "<i> Suppose you want to terminate a loop and skip to the next code after the loop; break will help you do that."
   ]
  },
  {
   "cell_type": "markdown",
   "id": "a3129080-40dd-4022-8b4f-b1663efbc0ef",
   "metadata": {},
   "source": [
    "73.  What is the use of pass statement?"
   ]
  },
  {
   "cell_type": "markdown",
   "id": "e6e7ef2a-236f-4552-992b-32587cdf834f",
   "metadata": {},
   "source": [
    "<i> When the pass statement is executed, nothing happens, but you avoid getting an error when empty code is not allowed. Empty code is not allowed in loops, function definitions, class definitions, or in if statements."
   ]
  },
  {
   "cell_type": "markdown",
   "id": "2c107d34-9a3a-4a57-bae9-ce13e7268e7b",
   "metadata": {},
   "source": [
    "74. What is the use of range() function?"
   ]
  },
  {
   "cell_type": "code",
   "execution_count": null,
   "id": "d24a2e51-2256-49ca-beba-0e0ed529077c",
   "metadata": {},
   "outputs": [],
   "source": [
    "#The range() function returns a sequence of numbers, starting from 0 by default, and increments \n",
    "#by 1 (by default), and stops before a specified number.\n",
    "#range(start, stop, step)\n",
    "for i in range(0,11,2):\n",
    "    print(i)"
   ]
  },
  {
   "cell_type": "markdown",
   "id": "0540f0d4-cb2f-4171-bd97-f404ad680b6a",
   "metadata": {},
   "source": [
    "75. How can you loop over a dictionary?"
   ]
  },
  {
   "cell_type": "code",
   "execution_count": null,
   "id": "c9c2b68e-7c04-4c74-a1c3-53667a568e58",
   "metadata": {},
   "outputs": [],
   "source": [
    "# we can loop through for loop\n",
    "cars = {'Mercedes Benz': 1, 'BMW': 2, 'Jeep': 3, 'Mahindra': 4, 'Maserati': 5}\n",
    "\n",
    "for i in cars.items():\n",
    "    print(i)"
   ]
  },
  {
   "cell_type": "markdown",
   "id": "b441c033-a686-43cb-94ee-1581d17b0a25",
   "metadata": {},
   "source": [
    "76. Write a Python program to find the factorial of a given number."
   ]
  },
  {
   "cell_type": "code",
   "execution_count": null,
   "id": "d5b8447d-dfe6-4940-a34c-92b62d570ca8",
   "metadata": {},
   "outputs": [],
   "source": [
    "a =int(input('Enter the number'))\n",
    "sum=1\n",
    "if(a==0 or a==1):\n",
    "    print(1)\n",
    "while(a>=2):\n",
    "    sum=sum*a\n",
    "    a-=1\n",
    "print('The factorial of no is',sum)"
   ]
  },
  {
   "cell_type": "markdown",
   "id": "3ca761e8-4fa9-4d2b-99c3-944ebdfd2398",
   "metadata": {},
   "source": [
    "77. Write a Python program to calculate the simple interest. Formula to calculate simple interest is SI = (P*R*T)/100"
   ]
  },
  {
   "cell_type": "code",
   "execution_count": null,
   "id": "a1070257-b3ca-4d92-a426-fd580889141b",
   "metadata": {},
   "outputs": [],
   "source": [
    "p =int(input('Enter the principal'))\n",
    "r =int(input('Enter the rate of interest'))\n",
    "t =int(input('Enter the years'))\n",
    "print('Simple interest will be:',((p*r*t)/100))"
   ]
  },
  {
   "cell_type": "markdown",
   "id": "636f285a-bd6f-46f1-9a7e-ad6d2e76888e",
   "metadata": {},
   "source": [
    "78. Write a Python program to calculate the compound interest. Formula of compound interest is A = P(1+ R/100)^t."
   ]
  },
  {
   "cell_type": "code",
   "execution_count": null,
   "id": "b3d9417f-1ccf-433d-8d88-a56d7a8313db",
   "metadata": {},
   "outputs": [],
   "source": [
    "p =int(input('Enter the principal'))\n",
    "r =int(input('Enter the rate of interest'))\n",
    "t =int(input('Enter the years'))\n",
    "a=p *(1 + r/100)**t\n",
    "print('Compound interest will be:',a)"
   ]
  },
  {
   "cell_type": "markdown",
   "id": "8c2c7099-e328-434e-b1fd-bde716544d9f",
   "metadata": {},
   "source": [
    "79. Write a Python program to check if a number is prime or not."
   ]
  },
  {
   "cell_type": "code",
   "execution_count": null,
   "id": "59730d85-c783-43c2-b682-26535209e640",
   "metadata": {},
   "outputs": [],
   "source": [
    "a =int(input('Enter the no.:'))\n",
    "if(a==2):\n",
    "    print(a,' is not a prime')\n",
    "flag=0\n",
    "for i in range(2,a):\n",
    "    if a % i == 0:\n",
    "        flag=1\n",
    "if flag==0:\n",
    "    print(a,' is prime no.')\n",
    "else:\n",
    "    print(a,' is not prime')"
   ]
  },
  {
   "cell_type": "markdown",
   "id": "9d7362ed-9e9f-4390-95f0-39eef71db714",
   "metadata": {},
   "source": [
    "80. Write a Python program to check Armstrong Number."
   ]
  },
  {
   "cell_type": "code",
   "execution_count": null,
   "id": "73d7d256-1c28-4d8f-bd39-037f52ba6298",
   "metadata": {},
   "outputs": [],
   "source": [
    "a =int(input('Enter the no.:'))\n",
    "sum=0;\n",
    "temp = a\n",
    "while temp > 0:\n",
    "    digit = temp % 10\n",
    "    sum += digit ** 3\n",
    "    temp //= 10\n",
    "if sum == a:\n",
    "    print(a,' is armstrong no.')\n",
    "else:\n",
    "    print(a,' is not armstrong no.')\n"
   ]
  },
  {
   "cell_type": "markdown",
   "id": "c3c0a6d2-3acf-4b5e-9290-f3cc12d3e01b",
   "metadata": {},
   "source": [
    "81. Write a Python program to find the n-th Fibonacci Number.\n"
   ]
  },
  {
   "cell_type": "code",
   "execution_count": 11,
   "id": "b4125cbe-c00f-43ae-aaf6-798c56780236",
   "metadata": {},
   "outputs": [
    {
     "name": "stdin",
     "output_type": "stream",
     "text": [
      "Enter the no.: 4\n"
     ]
    },
    {
     "name": "stdout",
     "output_type": "stream",
     "text": [
      "3\n"
     ]
    }
   ],
   "source": [
    "n=int(input('Enter the no.:'))\n",
    "a=0\n",
    "b=1\n",
    "if(n==0):\n",
    "    print(a)\n",
    "if(n==1):\n",
    "    print(b)\n",
    "\n",
    "for i in range(2,n+1):\n",
    "    c=a+b\n",
    "    a=b\n",
    "    b=c\n",
    "print(b)\n",
    "    "
   ]
  },
  {
   "cell_type": "markdown",
   "id": "6a39ac84-69c1-4778-b5b1-4266db38848d",
   "metadata": {},
   "source": [
    "82. Write a Python program to interchange the first and last element in a list."
   ]
  },
  {
   "cell_type": "code",
   "execution_count": 17,
   "id": "65697c69-ae03-46e3-867f-8a95d710b25e",
   "metadata": {},
   "outputs": [
    {
     "name": "stdout",
     "output_type": "stream",
     "text": [
      "[1, 2, 3, 4, 5]\n",
      "[5, 2, 3, 4, 1]\n"
     ]
    }
   ],
   "source": [
    "a=[1,2,3,4,5]\n",
    "print(a)\n",
    "def swap(a):\n",
    "    n = len(a)\n",
    "    temp = a[0]\n",
    "    a[0] = a[n-1]\n",
    "    a[n-1] = temp\n",
    "swap(a)\n",
    "print(a)"
   ]
  },
  {
   "cell_type": "markdown",
   "id": "8deabe48-31f4-4752-ba36-ff7f6a1e3faa",
   "metadata": {},
   "source": [
    "83. Write a Python program to swap two elements in a list."
   ]
  },
  {
   "cell_type": "code",
   "execution_count": 22,
   "id": "3fdd4f16-1267-4250-b109-3dbcb2972171",
   "metadata": {},
   "outputs": [
    {
     "name": "stdout",
     "output_type": "stream",
     "text": [
      "Before swapping: [1, 2, 3, 4, 5]\n"
     ]
    },
    {
     "name": "stdin",
     "output_type": "stream",
     "text": [
      "Enter the index 1st no to swap: 0\n",
      "Enter the index no which you want to swap with: 3\n"
     ]
    },
    {
     "name": "stdout",
     "output_type": "stream",
     "text": [
      "[4, 2, 3, 1, 5]\n"
     ]
    }
   ],
   "source": [
    "a=[1,2,3,4,5]\n",
    "print('Before swapping:',a)\n",
    "def swap(a):\n",
    "    b=int(input('Enter the index 1st no to swap:'))\n",
    "    c=int(input('Enter the index no which you want to swap with:'))\n",
    "    temp = a[b]\n",
    "    a[b] = a[c]\n",
    "    a[c] = temp\n",
    "swap(a)\n",
    "print(a)"
   ]
  },
  {
   "cell_type": "markdown",
   "id": "40c6b0f7-ae9f-4a95-9052-63ecc9fe0761",
   "metadata": {},
   "source": [
    "84. Write a Python program to find N largest element from a list."
   ]
  },
  {
   "cell_type": "code",
   "execution_count": 41,
   "id": "5678cf91-1d77-40c6-96a9-c73ef352256d",
   "metadata": {},
   "outputs": [
    {
     "name": "stdin",
     "output_type": "stream",
     "text": [
      "Enter the list:  10 20 40 1 100 8\n"
     ]
    },
    {
     "name": "stdout",
     "output_type": "stream",
     "text": [
      "[10, 20, 40, 1, 100, 8]\n",
      "100\n"
     ]
    }
   ],
   "source": [
    "a = list(map(int, input(\"Enter the list: \").split()))\n",
    "print(a)\n",
    "def Largest_MAx(a):\n",
    "    a.sort()\n",
    "    return a[-1]\n",
    "print(Largest_MAx(a))"
   ]
  },
  {
   "cell_type": "markdown",
   "id": "47b0dbbe-8685-4cfc-b391-61e327bb2c78",
   "metadata": {},
   "source": [
    "85. Write a Python program to find cumulative sum of a list.\n"
   ]
  },
  {
   "cell_type": "code",
   "execution_count": 45,
   "id": "4b5d8596-4718-4259-b6a2-4779afcef683",
   "metadata": {},
   "outputs": [
    {
     "name": "stdin",
     "output_type": "stream",
     "text": [
      "Enter the list:  10 10 10 10 10\n"
     ]
    },
    {
     "name": "stdout",
     "output_type": "stream",
     "text": [
      "[10, 20, 30, 40, 50]\n"
     ]
    }
   ],
   "source": [
    "a = list(map(int, input('Enter the list: ').split()))\n",
    "new_list=[]\n",
    "j=0\n",
    "for i in range(0,len(a)):\n",
    "    j += a[i]\n",
    "    new_list.append(j)\n",
    "print(new_list)\n",
    "    "
   ]
  },
  {
   "cell_type": "markdown",
   "id": "932c3381-0450-4958-acbc-33ab4c5b0839",
   "metadata": {},
   "source": [
    "86. Write a Python program to check if a string is palindrome or not."
   ]
  },
  {
   "cell_type": "code",
   "execution_count": 50,
   "id": "38a571e3-9b3d-4bb8-bc91-2165641ef1f4",
   "metadata": {},
   "outputs": [
    {
     "name": "stdin",
     "output_type": "stream",
     "text": [
      "Enter a string:  abba\n"
     ]
    },
    {
     "name": "stdout",
     "output_type": "stream",
     "text": [
      "abba is a palindrome\n"
     ]
    }
   ],
   "source": [
    "input_string = input(\"Enter a string: \")\n",
    "reverse_string = input_string[-1: : -1]\n",
    "\n",
    "if input_string == reverse_string:\n",
    "    print(input_string, \"is a palindrome\")\n",
    "else:\n",
    "    print(input_string, \"is NOT a palindrome\")"
   ]
  },
  {
   "cell_type": "markdown",
   "id": "36f76568-6008-4bbb-97d9-4321e494e15d",
   "metadata": {},
   "source": [
    "87. Write a Python program to remove i'th element from a string.\n"
   ]
  },
  {
   "cell_type": "code",
   "execution_count": 63,
   "id": "5d5790f2-4ae9-4dc2-80ad-8b2f71dab556",
   "metadata": {},
   "outputs": [
    {
     "name": "stdin",
     "output_type": "stream",
     "text": [
      "Enter a string:  Hello\n",
      "Enter the index no:  1\n"
     ]
    },
    {
     "name": "stdout",
     "output_type": "stream",
     "text": [
      "Hllo\n"
     ]
    }
   ],
   "source": [
    "a = input(\"Enter a string: \")\n",
    "n = int(input('Enter the index no: '))\n",
    "def remove_char(a,n):\n",
    "    b = a[:n]\n",
    "    c = a[n+1:]\n",
    "    return b+c\n",
    "print(remove_char(a,n))"
   ]
  },
  {
   "cell_type": "markdown",
   "id": "15c7ea52-b7ec-44c6-86d6-0b577f2daae7",
   "metadata": {},
   "source": [
    "88. Write a Python program to check if a substring is present in a given string"
   ]
  },
  {
   "cell_type": "code",
   "execution_count": 69,
   "id": "353c127a-7799-415d-8869-7d3bd6e2638c",
   "metadata": {},
   "outputs": [
    {
     "name": "stdin",
     "output_type": "stream",
     "text": [
      "Enter a string:  BigData\n",
      "Enter a Sub-string:  Big\n"
     ]
    },
    {
     "name": "stdout",
     "output_type": "stream",
     "text": [
      "Does  Big  present in  BigData\n",
      "Yes\n"
     ]
    }
   ],
   "source": [
    "a = input(\"Enter a string: \")\n",
    "b = input(\"Enter a Sub-string: \")\n",
    "print('Does ',b,' present in ',a)\n",
    "if b in a:\n",
    "    print('Yes')\n",
    "else:\n",
    "    print('No')"
   ]
  },
  {
   "cell_type": "markdown",
   "id": "b25e2612-3a21-40f0-9a52-3f66b083f624",
   "metadata": {},
   "source": [
    "89. Write a Python program to find words which are greater than given length k."
   ]
  },
  {
   "cell_type": "code",
   "execution_count": 75,
   "id": "28fc4dc0-d827-478d-b39b-95fb8bb43bab",
   "metadata": {},
   "outputs": [
    {
     "name": "stdin",
     "output_type": "stream",
     "text": [
      "Enter a string:  Data Engineer contains Big Data\n",
      "Enter the lenght of k 5\n"
     ]
    },
    {
     "name": "stdout",
     "output_type": "stream",
     "text": [
      "Engineer\n",
      "contains\n"
     ]
    }
   ],
   "source": [
    "a = input(\"Enter a string: \")\n",
    "k = int(input('Enter the lenght of k'))\n",
    "\n",
    "def length_word(k, s):\n",
    "        word = a.split(' ')\n",
    "        for i in word:\n",
    "            if len(i)>k:\n",
    "                print(i)\n",
    "length_word(k,a)\n",
    "        "
   ]
  },
  {
   "cell_type": "markdown",
   "id": "1ed6904f-3bb6-41f0-b505-288e65c375ea",
   "metadata": {},
   "source": [
    "90.  Write a Python program to extract unquire dictionary values."
   ]
  },
  {
   "cell_type": "code",
   "execution_count": 80,
   "id": "afb86376-d6c3-461d-b97e-4fb028698726",
   "metadata": {},
   "outputs": [
    {
     "name": "stdout",
     "output_type": "stream",
     "text": [
      "Unique dictionary values are:  {1234567890, 'vnv@gmail.com', 20, 'Varun'}\n"
     ]
    }
   ],
   "source": [
    "dict2 = {\n",
    "    \"name\"  : \"Varun\",\n",
    "    \"age\"   : 20,\n",
    "    \"email\" : \"vnv@gmail.com\",\n",
    "    \"number\": 1234567890,\n",
    "    \"age\"   : 20\n",
    "}\n",
    "\n",
    "unique_val = set(dict2.values())\n",
    "\n",
    "print(\"Unique dictionary values are: \", unique_val)"
   ]
  },
  {
   "cell_type": "markdown",
   "id": "eda67ca9-cdcb-4ae8-a29a-bbfbd5c7f8c1",
   "metadata": {},
   "source": [
    "91.  Write a Python program to merge two dictionary."
   ]
  },
  {
   "cell_type": "code",
   "execution_count": 11,
   "id": "c260480e-f8ff-4c89-a1df-7f39ff21e927",
   "metadata": {},
   "outputs": [
    {
     "data": {
      "text/plain": [
       "{'1': 'varun',\n",
       " '2': 25,\n",
       " '3': 'xyz,pqr',\n",
       " '4': 'xyz,pqr',\n",
       " '5': 'abc@mail.com',\n",
       " 'name': 'vishal',\n",
       " 'age': 20,\n",
       " 'email': 'vnv@gmail.com',\n",
       " 'number': 1234567890,\n",
       " 'EDU': {'Diploma': 'IT', 'Engineering': 'IT', 'PHD': 'Data Science'}}"
      ]
     },
     "execution_count": 11,
     "metadata": {},
     "output_type": "execute_result"
    }
   ],
   "source": [
    "dict1 = {\n",
    "    \"1\" : \"varun\",\n",
    "    \"2\" : 25,\n",
    "    \"3\" : \"xyz,pqr\",\n",
    "    \"4\" : \"xyz,pqr\",\n",
    "    \"5\" : \"abc@mail.com\"\n",
    "}\n",
    "\n",
    "dict2 = {\n",
    "    \"name\"  : \"vishal\",\n",
    "    \"age\"   : 20,\n",
    "    \"email\" : \"vnv@gmail.com\",\n",
    "    \"number\": 1234567890,\n",
    "    \"EDU\"   :{\n",
    "                \"Diploma\"     : \"IT\",\n",
    "                \"Engineering\" : \"IT\",\n",
    "                \"PHD\"         : \"Data Science\"\n",
    "             }\n",
    "}\n",
    "\n",
    "res = {**dict1, **dict2}\n",
    "res"
   ]
  },
  {
   "cell_type": "markdown",
   "id": "38f48cf2-69d3-4cde-896f-55f3daccc282",
   "metadata": {},
   "source": [
    "92. Write a Python program to convert a list of tuples into dictionary.\n",
    "```\n",
    "Input : [('Sachin', 10), ('MSD', 7), ('Kohli', 18), ('Rohit', 45)]\n",
    "Output : {'Sachin': 10, 'MSD': 7, 'Kohli': 18, 'Rohit': 45}\n",
    "```"
   ]
  },
  {
   "cell_type": "code",
   "execution_count": 16,
   "id": "653020e8-e90e-4144-8202-43a4433ffa28",
   "metadata": {},
   "outputs": [
    {
     "data": {
      "text/plain": [
       "{'Sachin': 10, 'MSD': 7, 'Kohli': 18, 'Rohit': 45}"
      ]
     },
     "execution_count": 16,
     "metadata": {},
     "output_type": "execute_result"
    }
   ],
   "source": [
    "tup1=[('Sachin',10),('MSD',7),('Kohli',18),('Rohit',45)]\n",
    "result = dict(tup1)\n",
    "result"
   ]
  },
  {
   "cell_type": "markdown",
   "id": "328a306e-2456-42c0-ac48-c9c2e87c8553",
   "metadata": {},
   "source": [
    "93. Write a Python program to create a list of tuples from given list having number and its cube in each tuple.\n",
    "```\n",
    "Input: list = [9, 5, 6]\n",
    "Output: [(9, 729), (5, 125), (6, 216)]\n",
    "```"
   ]
  },
  {
   "cell_type": "code",
   "execution_count": 19,
   "id": "c0307ec7-2d7f-4a5f-837b-e431d4477dae",
   "metadata": {},
   "outputs": [
    {
     "data": {
      "text/plain": [
       "[(9, 729), (5, 125), (6, 216)]"
      ]
     },
     "execution_count": 19,
     "metadata": {},
     "output_type": "execute_result"
    }
   ],
   "source": [
    "list1=[9,5,6]\n",
    "list2= []\n",
    "\n",
    "for i in list1:\n",
    "    list2.append((i,i**3))\n",
    "list2"
   ]
  },
  {
   "cell_type": "markdown",
   "id": "e53e2b26-3fbb-437c-af79-af12aeb41fdb",
   "metadata": {},
   "source": [
    "94. Write a Python program to get all combinations of 2 tuples.\n",
    "```\n",
    "Input : test_tuple1 = (7, 2), test_tuple2 = (7, 8)\n",
    "Output : [(7, 7), (7, 8), (2, 7), (2, 8), (7, 7), (7, 2), (8, 7), (8, 2)]\n",
    "```"
   ]
  },
  {
   "cell_type": "code",
   "execution_count": 21,
   "id": "4abfbbe4-4ab4-41f3-a0f0-362853c6c7e5",
   "metadata": {},
   "outputs": [
    {
     "data": {
      "text/plain": [
       "[(7, 7), (7, 8), (2, 7), (2, 8), (7, 7), (7, 8), (2, 7), (2, 8)]"
      ]
     },
     "execution_count": 21,
     "metadata": {},
     "output_type": "execute_result"
    }
   ],
   "source": [
    "test_tuple1 = (7,2)\n",
    "test_tuple2 = (7,8)\n",
    "result = [(x,y) for x in test_tuple1 for y in test_tuple2]\n",
    "result = result + [(x,y) for x in test_tuple1 for y in test_tuple2]\n",
    "result"
   ]
  },
  {
   "cell_type": "code",
   "execution_count": 24,
   "id": "8f431414-2478-4c9b-9a81-c13e4276c67f",
   "metadata": {},
   "outputs": [
    {
     "name": "stdout",
     "output_type": "stream",
     "text": [
      "The tuple 1 :  (1, 2)\n",
      "The tuple 2 :  (3, 4)\n",
      "The resultant tuple : [(1, 3), (1, 4), (2, 3), (2, 4), (3, 1), (3, 2), (4, 1), (4, 2)]\n"
     ]
    }
   ],
   "source": [
    "from itertools import chain, product \n",
    "test_tuple1 = (1, 2)\n",
    "test_tuple2 = (3, 4) \n",
    "print(\"The tuple 1 : \",test_tuple1)\n",
    "print(\"The tuple 2 : \" , test_tuple2)\n",
    "result = list(chain(product(tuple1, tuple2), product(tuple2, tuple1))) \n",
    "print(\"The resultant tuple : \" + str(result))"
   ]
  },
  {
   "cell_type": "markdown",
   "id": "c455d13f-50a4-42a7-ac88-a54937e0f8d5",
   "metadata": {},
   "source": [
    "95. Write a Python program to sort a list of tuples by second item.\n",
    "```\n",
    "Input : [('for', 24), ('Geeks', 8), ('Geeks', 30)] \n",
    "Output : [('Geeks', 8), ('for', 24), ('Geeks', 30)]\n",
    "```"
   ]
  },
  {
   "cell_type": "code",
   "execution_count": 31,
   "id": "0b453337-6d5f-4c11-90cb-17068335ca4a",
   "metadata": {},
   "outputs": [
    {
     "name": "stdout",
     "output_type": "stream",
     "text": [
      "Orginal tuple:  [('for', 24), ('Geeks', 8), ('Geeks', 30)]\n",
      "After sorting by 2nd element: [('Geeks', 8), ('for', 24), ('Geeks', 30)]\n"
     ]
    }
   ],
   "source": [
    "tuple_1 = [('for', 24), ('Geeks', 8), ('Geeks', 30)]\n",
    "print('Orginal tuple: ',tuple_1)\n",
    "\n",
    "tuple_1.sort(key=lambda a:a[1])\n",
    "print('After sorting by 2nd element:',tuple_1)"
   ]
  },
  {
   "cell_type": "markdown",
   "id": "6fbe2f39-aada-4d3c-86a7-3e2ed598ee63",
   "metadata": {},
   "source": [
    "96. Write a python program to print below pattern.\n",
    "```\n",
    "* \n",
    "* * \n",
    "* * * \n",
    "* * * * \n",
    "* * * * * \n",
    "```\n"
   ]
  },
  {
   "cell_type": "code",
   "execution_count": 42,
   "id": "4f89e47a-ac61-4162-9e18-24c41e8c61e6",
   "metadata": {},
   "outputs": [
    {
     "name": "stdin",
     "output_type": "stream",
     "text": [
      "Enter the no. 5\n"
     ]
    },
    {
     "name": "stdout",
     "output_type": "stream",
     "text": [
      "* \n",
      "* * \n",
      "* * * \n",
      "* * * * \n",
      "* * * * * \n"
     ]
    }
   ],
   "source": [
    "n= int(input('Enter the no.'))\n",
    "for i in range(n):\n",
    "    for j in range(i+1):\n",
    "        print('* ', end='')\n",
    "    print('')"
   ]
  },
  {
   "cell_type": "markdown",
   "id": "7a04e70a-2a5b-4248-bccf-6ca5e7cafb0f",
   "metadata": {},
   "source": [
    "97. Write a python program to print below pattern.\n",
    "```\n",
    "    *\n",
    "   **\n",
    "  ***\n",
    " ****\n",
    "*****\n",
    "```"
   ]
  },
  {
   "cell_type": "code",
   "execution_count": 57,
   "id": "c44c62b7-736a-45d2-ac15-f3646af8d236",
   "metadata": {},
   "outputs": [
    {
     "name": "stdin",
     "output_type": "stream",
     "text": [
      "Enter the no. 6\n"
     ]
    },
    {
     "name": "stdout",
     "output_type": "stream",
     "text": [
      "        \n",
      "      * \n",
      "     ** \n",
      "    *** \n",
      "   **** \n",
      "  ***** \n"
     ]
    }
   ],
   "source": [
    "n= int(input('Enter the no.'))\n",
    "for i in range(n,0,-1):\n",
    "    for j in range(i+1):\n",
    "        print(' ', end='')\n",
    "    for k in range (i+1, n+1):\n",
    "    \n",
    "        print(\"*\", end =\"\")\n",
    "    print(\" \")"
   ]
  },
  {
   "cell_type": "markdown",
   "id": "b7cfe6b8-d921-4365-a043-33c99d08073c",
   "metadata": {},
   "source": [
    "98. Write a python program to print below pattern.\n",
    "```\n",
    "    * \n",
    "   * * \n",
    "  * * * \n",
    " * * * * \n",
    "* * * * * \n",
    "```"
   ]
  },
  {
   "cell_type": "code",
   "execution_count": 66,
   "id": "985954c0-5e05-4ddf-813f-4ca14b26d484",
   "metadata": {},
   "outputs": [
    {
     "name": "stdin",
     "output_type": "stream",
     "text": [
      "Enter the no. 6\n"
     ]
    },
    {
     "name": "stdout",
     "output_type": "stream",
     "text": [
      "       \n",
      "      * \n",
      "     * * \n",
      "    * * * \n",
      "   * * * * \n",
      "  * * * * * \n"
     ]
    }
   ],
   "source": [
    "n= int(input('Enter the no.'))\n",
    "for i in range(n,0,-1):\n",
    "    for j in range(i+1):\n",
    "        print(' ', end='')\n",
    "    for k in range (i+1, n+1):\n",
    "    \n",
    "        print(\"*\", end =\" \")\n",
    "    print(\"\")"
   ]
  },
  {
   "cell_type": "markdown",
   "id": "738d7ecc-dc64-430b-b6f2-6fb43652c4ab",
   "metadata": {},
   "source": [
    "99. Write a python program to print below pattern.\n",
    "```\n",
    "1 \n",
    "1 2 \n",
    "1 2 3 \n",
    "1 2 3 4 \n",
    "1 2 3 4 5\n",
    "```"
   ]
  },
  {
   "cell_type": "code",
   "execution_count": 70,
   "id": "86e09f45-071e-45c8-ade7-16744b19aa45",
   "metadata": {},
   "outputs": [
    {
     "name": "stdin",
     "output_type": "stream",
     "text": [
      "Enter the no. 5\n"
     ]
    },
    {
     "name": "stdout",
     "output_type": "stream",
     "text": [
      "1  \n",
      "1  2  \n",
      "1  2  3  \n",
      "1  2  3  4  \n",
      "1  2  3  4  5  \n"
     ]
    }
   ],
   "source": [
    "n= int(input('Enter the no.'))\n",
    "for i in range(n):\n",
    "    for j in range(i+1):\n",
    "        print(j+1,' ', end='')\n",
    "    print('')"
   ]
  },
  {
   "cell_type": "markdown",
   "id": "b416c554-0b8b-41a7-8264-d48564c63168",
   "metadata": {},
   "source": [
    "100. Write a python program to print below pattern.\n",
    "```\n",
    "A \n",
    "B B \n",
    "C C C \n",
    "D D D D \n",
    "E E E E E \n",
    "```"
   ]
  },
  {
   "cell_type": "code",
   "execution_count": 77,
   "id": "ed363d3b-441b-4481-9e22-0c4b2a11e201",
   "metadata": {},
   "outputs": [
    {
     "name": "stdout",
     "output_type": "stream",
     "text": [
      "A  \n",
      "B  B  \n",
      "C  C  C  \n",
      "D  D  D  D  \n",
      "E  E  E  E  E  \n"
     ]
    }
   ],
   "source": [
    "for i in range(65,70):\n",
    "    for j in range(65,i+1):\n",
    "        print(chr(i),' ', end='')\n",
    "    print('')"
   ]
  },
  {
   "cell_type": "markdown",
   "id": "5a6a99e9-71eb-4de8-b462-8c47fdbae1a1",
   "metadata": {},
   "source": [
    "<h1> <b> ----------------------THANKYOU----------------------------"
   ]
  },
  {
   "cell_type": "code",
   "execution_count": null,
   "id": "ec0638c4-79a2-4582-b368-75bb927a79f5",
   "metadata": {},
   "outputs": [],
   "source": []
  }
 ],
 "metadata": {
  "kernelspec": {
   "display_name": "Python 3 (ipykernel)",
   "language": "python",
   "name": "python3"
  },
  "language_info": {
   "codemirror_mode": {
    "name": "ipython",
    "version": 3
   },
   "file_extension": ".py",
   "mimetype": "text/x-python",
   "name": "python",
   "nbconvert_exporter": "python",
   "pygments_lexer": "ipython3",
   "version": "3.10.6"
  }
 },
 "nbformat": 4,
 "nbformat_minor": 5
}
